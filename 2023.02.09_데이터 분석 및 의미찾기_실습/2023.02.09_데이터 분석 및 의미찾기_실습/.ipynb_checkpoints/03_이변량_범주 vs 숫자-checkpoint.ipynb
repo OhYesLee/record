{
 "cells": [
  {
   "cell_type": "markdown",
   "metadata": {
    "id": "EnlYouStN0Le"
   },
   "source": [
    "# 이변량_범주 vs 숫자"
   ]
  },
  {
   "cell_type": "markdown",
   "metadata": {
    "id": "0SJP-uYxN0Lk"
   },
   "source": [
    "## 1.환경준비"
   ]
  },
  {
   "cell_type": "markdown",
   "metadata": {
    "id": "6dMK5CsEN0Lk"
   },
   "source": [
    "* 라이브러리 불러오기"
   ]
  },
  {
   "cell_type": "code",
   "execution_count": 1,
   "metadata": {
    "id": "Sma8Fku5N0Ll"
   },
   "outputs": [],
   "source": [
    "import pandas as pd\n",
    "import numpy as np\n",
    "\n",
    "import matplotlib.pyplot as plt\n",
    "import seaborn as sns\n",
    "\n",
    "import scipy.stats as spst"
   ]
  },
  {
   "cell_type": "markdown",
   "metadata": {
    "id": "NCpMWLagN0Ln"
   },
   "source": [
    "* 데이터 불러오기 : 다음의 예제 데이터를 사용합니다.\n",
    "> 타이타닉 생존자"
   ]
  },
  {
   "cell_type": "markdown",
   "metadata": {
    "id": "LyXit-TSn-7m"
   },
   "source": [
    "|\t변수\t|\t설명\t|\t값 설명\t|\n",
    "|\t----\t|\t----\t|\t----\t|\n",
    "|\tsurvived\t|\t생존여부\t|\t0 - 사망, 1- 생존\t|\n",
    "|\tPclass\t|\tTicket class\t|\t1 = 1st, 2 = 2nd, 3 = 3rd\t|\n",
    "|\tSex\t|\t성별\t|\t\t|\n",
    "|\tAge\t|\tAge in years\t|\t\t|\n",
    "|\tSibsp\t|\t# of siblings / spouses aboard the Titanic\t|\t\t|\n",
    "|\tParch\t|\t# of parents / children aboard the Titanic\t|\t\t|\n",
    "|\tTicket\t|\tTicket number\t|\t\t|\n",
    "|\tFare\t|\tPassenger fare\t|\t\t|\n",
    "|\tCabin\t|\tCabin number\t|\t\t|\n",
    "|\tEmbarked\t|\tPort of Embarkation\t|\tC = Cherbourg, Q = Queenstown, S = Southampton\t|\n"
   ]
  },
  {
   "cell_type": "code",
   "execution_count": 2,
   "metadata": {
    "id": "si-trqDhN0Lo"
   },
   "outputs": [
    {
     "data": {
      "text/html": [
       "<div>\n",
       "<style scoped>\n",
       "    .dataframe tbody tr th:only-of-type {\n",
       "        vertical-align: middle;\n",
       "    }\n",
       "\n",
       "    .dataframe tbody tr th {\n",
       "        vertical-align: top;\n",
       "    }\n",
       "\n",
       "    .dataframe thead th {\n",
       "        text-align: right;\n",
       "    }\n",
       "</style>\n",
       "<table border=\"1\" class=\"dataframe\">\n",
       "  <thead>\n",
       "    <tr style=\"text-align: right;\">\n",
       "      <th></th>\n",
       "      <th>PassengerId</th>\n",
       "      <th>Survived</th>\n",
       "      <th>Pclass</th>\n",
       "      <th>Name</th>\n",
       "      <th>Sex</th>\n",
       "      <th>Age</th>\n",
       "      <th>SibSp</th>\n",
       "      <th>Parch</th>\n",
       "      <th>Ticket</th>\n",
       "      <th>Fare</th>\n",
       "      <th>Cabin</th>\n",
       "      <th>Embarked</th>\n",
       "    </tr>\n",
       "  </thead>\n",
       "  <tbody>\n",
       "    <tr>\n",
       "      <th>0</th>\n",
       "      <td>1</td>\n",
       "      <td>0</td>\n",
       "      <td>3</td>\n",
       "      <td>Braund, Mr. Owen Harris</td>\n",
       "      <td>male</td>\n",
       "      <td>22.0</td>\n",
       "      <td>1</td>\n",
       "      <td>0</td>\n",
       "      <td>A/5 21171</td>\n",
       "      <td>7.2500</td>\n",
       "      <td>NaN</td>\n",
       "      <td>S</td>\n",
       "    </tr>\n",
       "    <tr>\n",
       "      <th>1</th>\n",
       "      <td>2</td>\n",
       "      <td>1</td>\n",
       "      <td>1</td>\n",
       "      <td>Cumings, Mrs. John Bradley (Florence Briggs Th...</td>\n",
       "      <td>female</td>\n",
       "      <td>38.0</td>\n",
       "      <td>1</td>\n",
       "      <td>0</td>\n",
       "      <td>PC 17599</td>\n",
       "      <td>71.2833</td>\n",
       "      <td>C85</td>\n",
       "      <td>C</td>\n",
       "    </tr>\n",
       "    <tr>\n",
       "      <th>2</th>\n",
       "      <td>3</td>\n",
       "      <td>1</td>\n",
       "      <td>3</td>\n",
       "      <td>Heikkinen, Miss. Laina</td>\n",
       "      <td>female</td>\n",
       "      <td>26.0</td>\n",
       "      <td>0</td>\n",
       "      <td>0</td>\n",
       "      <td>STON/O2. 3101282</td>\n",
       "      <td>7.9250</td>\n",
       "      <td>NaN</td>\n",
       "      <td>S</td>\n",
       "    </tr>\n",
       "    <tr>\n",
       "      <th>3</th>\n",
       "      <td>4</td>\n",
       "      <td>1</td>\n",
       "      <td>1</td>\n",
       "      <td>Futrelle, Mrs. Jacques Heath (Lily May Peel)</td>\n",
       "      <td>female</td>\n",
       "      <td>35.0</td>\n",
       "      <td>1</td>\n",
       "      <td>0</td>\n",
       "      <td>113803</td>\n",
       "      <td>53.1000</td>\n",
       "      <td>C123</td>\n",
       "      <td>S</td>\n",
       "    </tr>\n",
       "    <tr>\n",
       "      <th>4</th>\n",
       "      <td>5</td>\n",
       "      <td>0</td>\n",
       "      <td>3</td>\n",
       "      <td>Allen, Mr. William Henry</td>\n",
       "      <td>male</td>\n",
       "      <td>35.0</td>\n",
       "      <td>0</td>\n",
       "      <td>0</td>\n",
       "      <td>373450</td>\n",
       "      <td>8.0500</td>\n",
       "      <td>NaN</td>\n",
       "      <td>S</td>\n",
       "    </tr>\n",
       "  </tbody>\n",
       "</table>\n",
       "</div>"
      ],
      "text/plain": [
       "   PassengerId  Survived  Pclass  \\\n",
       "0            1         0       3   \n",
       "1            2         1       1   \n",
       "2            3         1       3   \n",
       "3            4         1       1   \n",
       "4            5         0       3   \n",
       "\n",
       "                                                Name     Sex   Age  SibSp  \\\n",
       "0                            Braund, Mr. Owen Harris    male  22.0      1   \n",
       "1  Cumings, Mrs. John Bradley (Florence Briggs Th...  female  38.0      1   \n",
       "2                             Heikkinen, Miss. Laina  female  26.0      0   \n",
       "3       Futrelle, Mrs. Jacques Heath (Lily May Peel)  female  35.0      1   \n",
       "4                           Allen, Mr. William Henry    male  35.0      0   \n",
       "\n",
       "   Parch            Ticket     Fare Cabin Embarked  \n",
       "0      0         A/5 21171   7.2500   NaN        S  \n",
       "1      0          PC 17599  71.2833   C85        C  \n",
       "2      0  STON/O2. 3101282   7.9250   NaN        S  \n",
       "3      0            113803  53.1000  C123        S  \n",
       "4      0            373450   8.0500   NaN        S  "
      ]
     },
     "execution_count": 2,
     "metadata": {},
     "output_type": "execute_result"
    }
   ],
   "source": [
    "# 타이타닉 데이터\n",
    "titanic = pd.read_csv('https://raw.githubusercontent.com/DA4BAM/dataset/master/titanic.0.csv')\n",
    "titanic.head()"
   ]
  },
  {
   "cell_type": "markdown",
   "metadata": {
    "id": "KPClTP--BP0w"
   },
   "source": [
    "범주별 숫자를 비교할 때 사용되는 방식은 **범주별 평균 비교** 입니다.  \n"
   ]
  },
  {
   "cell_type": "markdown",
   "metadata": {
    "id": "Xv7rJwJhnE_I"
   },
   "source": [
    "## 2.시각화\n",
    "titanic data에서 Age를 Y로 두고 비교해 봅시다."
   ]
  },
  {
   "cell_type": "markdown",
   "metadata": {
    "id": "n0eqOJBAgv_i"
   },
   "source": [
    "### (1) 평균 비교 : barplot"
   ]
  },
  {
   "cell_type": "code",
   "execution_count": 3,
   "metadata": {
    "id": "NJQhnVuSBq4c"
   },
   "outputs": [
    {
     "data": {
      "image/png": "[encoded data removed]",
      "text/plain": [
       "<Figure size 640x480 with 1 Axes>"
      ]
     },
     "metadata": {},
     "output_type": "display_data"
    }
   ],
   "source": [
    "sns.barplot(x=\"Survived\", y=\"Age\", data=titanic)\n",
    "plt.grid()\n",
    "plt.show()"
   ]
  },
  {
   "cell_type": "code",
   "execution_count": 5,
   "metadata": {
    "id": "kpwwU8TrUb-E"
   },
   "outputs": [
    {
     "data": {
      "text/html": [
       "<div>\n",
       "<style scoped>\n",
       "    .dataframe tbody tr th:only-of-type {\n",
       "        vertical-align: middle;\n",
       "    }\n",
       "\n",
       "    .dataframe tbody tr th {\n",
       "        vertical-align: top;\n",
       "    }\n",
       "\n",
       "    .dataframe thead th {\n",
       "        text-align: right;\n",
       "    }\n",
       "</style>\n",
       "<table border=\"1\" class=\"dataframe\">\n",
       "  <thead>\n",
       "    <tr style=\"text-align: right;\">\n",
       "      <th></th>\n",
       "      <th>Survived</th>\n",
       "      <th>Age</th>\n",
       "    </tr>\n",
       "  </thead>\n",
       "  <tbody>\n",
       "    <tr>\n",
       "      <th>0</th>\n",
       "      <td>0</td>\n",
       "      <td>22.0</td>\n",
       "    </tr>\n",
       "    <tr>\n",
       "      <th>1</th>\n",
       "      <td>1</td>\n",
       "      <td>38.0</td>\n",
       "    </tr>\n",
       "    <tr>\n",
       "      <th>2</th>\n",
       "      <td>1</td>\n",
       "      <td>26.0</td>\n",
       "    </tr>\n",
       "    <tr>\n",
       "      <th>3</th>\n",
       "      <td>1</td>\n",
       "      <td>35.0</td>\n",
       "    </tr>\n",
       "    <tr>\n",
       "      <th>4</th>\n",
       "      <td>0</td>\n",
       "      <td>35.0</td>\n",
       "    </tr>\n",
       "    <tr>\n",
       "      <th>5</th>\n",
       "      <td>0</td>\n",
       "      <td>NaN</td>\n",
       "    </tr>\n",
       "    <tr>\n",
       "      <th>6</th>\n",
       "      <td>0</td>\n",
       "      <td>54.0</td>\n",
       "    </tr>\n",
       "    <tr>\n",
       "      <th>7</th>\n",
       "      <td>0</td>\n",
       "      <td>2.0</td>\n",
       "    </tr>\n",
       "    <tr>\n",
       "      <th>8</th>\n",
       "      <td>1</td>\n",
       "      <td>27.0</td>\n",
       "    </tr>\n",
       "    <tr>\n",
       "      <th>9</th>\n",
       "      <td>1</td>\n",
       "      <td>14.0</td>\n",
       "    </tr>\n",
       "    <tr>\n",
       "      <th>10</th>\n",
       "      <td>1</td>\n",
       "      <td>4.0</td>\n",
       "    </tr>\n",
       "  </tbody>\n",
       "</table>\n",
       "</div>"
      ],
      "text/plain": [
       "    Survived   Age\n",
       "0          0  22.0\n",
       "1          1  38.0\n",
       "2          1  26.0\n",
       "3          1  35.0\n",
       "4          0  35.0\n",
       "5          0   NaN\n",
       "6          0  54.0\n",
       "7          0   2.0\n",
       "8          1  27.0\n",
       "9          1  14.0\n",
       "10         1   4.0"
      ]
     },
     "execution_count": 5,
     "metadata": {},
     "output_type": "execute_result"
    }
   ],
   "source": [
    "titanic.loc[:10, ['Survived','Age']]"
   ]
  },
  {
   "cell_type": "markdown",
   "metadata": {
    "id": "n8sQTkSnh-mG"
   },
   "source": [
    "위 두 범주간에 평균에 차이가 있나요?"
   ]
  },
  {
   "cell_type": "code",
   "execution_count": null,
   "metadata": {
    "id": "dr5lNzwlD7dQ"
   },
   "outputs": [],
   "source": []
  },
  {
   "cell_type": "markdown",
   "metadata": {
    "id": "5sN4IWUWm-UT"
   },
   "source": [
    "### (2) (추가) boxplot"
   ]
  },
  {
   "cell_type": "code",
   "execution_count": 4,
   "metadata": {
    "id": "UukJEX7KAmT8"
   },
   "outputs": [
    {
     "data": {
      "image/png": "[encoded data removed]",
      "text/plain": [
       "<Figure size 640x480 with 1 Axes>"
      ]
     },
     "metadata": {},
     "output_type": "display_data"
    }
   ],
   "source": [
    "sns.boxplot(x='Survived', y = 'Age', data = titanic)\n",
    "plt.show()"
   ]
  },
  {
   "cell_type": "markdown",
   "metadata": {
    "id": "4UHk56yBiSL1"
   },
   "source": [
    "## 3.수치화"
   ]
  },
  {
   "cell_type": "markdown",
   "metadata": {
    "id": "GZK2CM-Wim3v"
   },
   "source": [
    "### (1) t-test"
   ]
  },
  {
   "cell_type": "markdown",
   "metadata": {
    "id": "AoGNWP4-nZHf"
   },
   "source": [
    "두 집단의 평균을 비교합니다.\n",
    "* 예제는 Two sample T-test와 양측검정만 다룹니다. \n",
    "* 우리는 X --> Y의 관계에서 ,두 변수간에 관련이(차이가) 있는지, 없는지를 확인하는 것이 제일 중요하기 때문입니다.\n",
    "\n",
    "* 주의사항 : 데이터에 NaN이 있으면 계산이 안됩니다. .notnull() 등으로 NaN을 제외한 데이터를 사용해야 합니다.\n",
    "\n",
    "* t 통계량\n",
    "    * 두 평균의 차이를 표준오차로 나눈 값.\n",
    "    * 기본적으로는 두 평균의 차이로 이해해도 좋습니다.\n",
    "    * 우리의 가설(대립가설)은 차이가 있다는 것이므로, t 값이 크던지 작던지 하기를 바랍니다. \n",
    "    * 보통, t 값이 -2보다 작거나, 2보다 크면 차이가 있다고 봅니다. "
   ]
  },
  {
   "cell_type": "markdown",
   "metadata": {
    "id": "KJ3I2aNrrLib"
   },
   "source": [
    "* 이번엔 타이타닉 데이터로 시도해 봅시다.\n",
    "    * 생존여부 --> Age : 생존여부 별로 나이에 차이가 있을것이다.\n"
   ]
  },
  {
   "cell_type": "markdown",
   "metadata": {
    "id": "Rxpmiz-Pngy_"
   },
   "source": [
    "#### 1) 데이터 준비"
   ]
  },
  {
   "cell_type": "code",
   "execution_count": 20,
   "metadata": {
    "id": "n4kXmaaqSR_4"
   },
   "outputs": [
    {
     "data": {
      "text/plain": [
       "PassengerId      0\n",
       "Survived         0\n",
       "Pclass           0\n",
       "Name             0\n",
       "Sex              0\n",
       "Age            177\n",
       "SibSp            0\n",
       "Parch            0\n",
       "Ticket           0\n",
       "Fare             0\n",
       "Cabin          687\n",
       "Embarked         2\n",
       "dtype: int64"
      ]
     },
     "execution_count": 20,
     "metadata": {},
     "output_type": "execute_result"
    }
   ],
   "source": [
    "# 먼저 NaN이 있는지 확인해 봅시다.\n",
    "titanic.isna().sum()"
   ]
  },
  {
   "cell_type": "code",
   "execution_count": 21,
   "metadata": {
    "id": "fnE7AvZ5no6f"
   },
   "outputs": [],
   "source": [
    "# NaN 행 제외\n",
    "temp = titanic.loc[titanic['Age'].notnull()]"
   ]
  },
  {
   "cell_type": "code",
   "execution_count": 22,
   "metadata": {
    "id": "zHCz_442ifcG"
   },
   "outputs": [],
   "source": [
    "# 두 그룹으로 데이터 저장\n",
    "died = temp.loc[temp['Survived']==0, 'Age']\n",
    "survived = temp.loc[temp['Survived']==1, 'Age']"
   ]
  },
  {
   "cell_type": "markdown",
   "metadata": {
    "id": "ZrWycLGIntZC"
   },
   "source": [
    "#### 2) t-test"
   ]
  },
  {
   "cell_type": "code",
   "execution_count": 23,
   "metadata": {
    "id": "uSVTNWQdilY_"
   },
   "outputs": [
    {
     "data": {
      "text/plain": [
       "Ttest_indResult(statistic=2.06668694625381, pvalue=0.03912465401348249)"
      ]
     },
     "execution_count": 23,
     "metadata": {},
     "output_type": "execute_result"
    }
   ],
   "source": [
    "# 차이가 있기는 있으나 크진 않다.\n",
    "spst.ttest_ind(died, survived)"
   ]
  },
  {
   "cell_type": "markdown",
   "metadata": {
    "id": "xSWBmU_Yeu5A"
   },
   "source": [
    "<img src='https://raw.githubusercontent.com/jangrae/img/master/practice_01.png' width=120 align=\"left\"/>"
   ]
  },
  {
   "cell_type": "markdown",
   "metadata": {
    "id": "-cfh0-Vtrh-P"
   },
   "source": [
    "* [문1] 성별에 따라 운임에 차이가 있을 것이다."
   ]
  },
  {
   "cell_type": "code",
   "execution_count": 16,
   "metadata": {
    "id": "Ndk1lhKacsH_"
   },
   "outputs": [],
   "source": [
    "# Sex --> Fare\n",
    "# NaN 행 제외\n",
    "# temp = titanic.loc[titanic['Sex'].notnull()]\n",
    "\n",
    "# 두 그룹으로 데이터 저장\n",
    "male = temp.loc[temp['Sex']==0,'Fare']\n",
    "female = temp.loc[temp['Sex']==1,'Fare']"
   ]
  },
  {
   "cell_type": "code",
   "execution_count": 19,
   "metadata": {
    "id": "NXXq6sdIcsEk"
   },
   "outputs": [
    {
     "data": {
      "text/plain": [
       "Ttest_indResult(statistic=nan, pvalue=nan)"
      ]
     },
     "execution_count": 19,
     "metadata": {},
     "output_type": "execute_result"
    }
   ],
   "source": [
    "spst.ttest_ind(male,female,equal_var=True)"
   ]
  },
  {
   "cell_type": "markdown",
   "metadata": {},
   "source": [
    "* 답!!!!!!!!!!!!!!!!!!!!!!!!!!!!!!!!!!"
   ]
  },
  {
   "cell_type": "code",
   "execution_count": 24,
   "metadata": {},
   "outputs": [
    {
     "data": {
      "image/png": "[encoded data removed]",
      "text/plain": [
       "<Figure size 640x480 with 1 Axes>"
      ]
     },
     "metadata": {},
     "output_type": "display_data"
    }
   ],
   "source": [
    "# Sex --> Fare\n",
    "sns.barplot(x='Sex', y='Fare',data = titanic)\n",
    "plt.grid()\n",
    "plt.show()"
   ]
  },
  {
   "cell_type": "code",
   "execution_count": 25,
   "metadata": {},
   "outputs": [
    {
     "data": {
      "text/plain": [
       "Ttest_indResult(statistic=-5.529140269385719, pvalue=4.2308678700429995e-08)"
      ]
     },
     "execution_count": 25,
     "metadata": {},
     "output_type": "execute_result"
    }
   ],
   "source": [
    "male = titanic.loc[titanic['Sex'] == 'male','Fare']\n",
    "female = titanic.loc[titanic['Sex'] == 'female','Fare']\n",
    "spst.ttest_ind(male,female)"
   ]
  },
  {
   "cell_type": "code",
   "execution_count": 26,
   "metadata": {},
   "outputs": [
    {
     "data": {
      "text/plain": [
       "Ttest_indResult(statistic=5.529140269385719, pvalue=4.2308678700429995e-08)"
      ]
     },
     "execution_count": 26,
     "metadata": {},
     "output_type": "execute_result"
    }
   ],
   "source": [
    "spst.ttest_ind(female,male)"
   ]
  },
  {
   "cell_type": "markdown",
   "metadata": {
    "id": "GB8UyAJjc-rn"
   },
   "source": [
    "* [문2] 생존여부에 따라 운임에 차이가 있을 것이다."
   ]
  },
  {
   "cell_type": "code",
   "execution_count": 12,
   "metadata": {
    "id": "4eHNWm73c-ro"
   },
   "outputs": [],
   "source": [
    "#  Survived --> Fare"
   ]
  },
  {
   "cell_type": "code",
   "execution_count": null,
   "metadata": {
    "id": "DxZ1EDeTc-ro"
   },
   "outputs": [],
   "source": []
  },
  {
   "cell_type": "markdown",
   "metadata": {
    "id": "gEwfyAAIiuMb"
   },
   "source": [
    "### (2) anova"
   ]
  },
  {
   "cell_type": "markdown",
   "metadata": {
    "id": "7wqoaEC9oFDz"
   },
   "source": [
    "\n",
    "* 분산 분석 **AN**alysis **O**f **VA**riance\n",
    "* 여러 집단 간에 차이는 어떻게 비교할 수 있을까요?\n",
    "* 여기서 기준은 전체 평균 입니다.\n",
    "* 𝐹 통계량 = \n",
    "    * (집단 간 분산)/(집단 내 분산) = (전체 평균 − 각 집단 평균)/(각 집단의 평균 − 개별 값)\n",
    "    * 값이 대략 2~3 이상이면 차이가 있다고 판단합니다."
   ]
  },
  {
   "cell_type": "code",
   "execution_count": 27,
   "metadata": {
    "id": "YYiFvvh8G1t9"
   },
   "outputs": [
    {
     "data": {
      "image/png": "[encoded data removed]",
      "text/plain": [
       "<Figure size 640x480 with 1 Axes>"
      ]
     },
     "metadata": {},
     "output_type": "display_data"
    }
   ],
   "source": [
    "# Pclass(3 범주) --> Age\n",
    "sns.barplot(x=\"Pclass\", y=\"Age\", data=titanic)\n",
    "plt.grid()\n",
    "plt.show()"
   ]
  },
  {
   "cell_type": "markdown",
   "metadata": {
    "id": "iCjyY7jAoO8G"
   },
   "source": [
    "#### 1) 데이터 준비"
   ]
  },
  {
   "cell_type": "code",
   "execution_count": 35,
   "metadata": {
    "id": "ujyT1qi_oO8G"
   },
   "outputs": [],
   "source": [
    "# 1) 분산 분석을 위한 데이터 만들기\n",
    "# NaN 행 제외\n",
    "temp = titanic.loc[titanic['Age'].notnull()]\n",
    "# 그룹별 저장\n",
    "P_1 = temp.loc[temp['Pclass'] == 1, 'Age']\n",
    "P_2 = temp.loc[temp.Pclass == 2, 'Age']\n",
    "P_3 = temp.loc[temp.Pclass == 3, 'Age']\n",
    "P_4 = temp.loc[temp.Pclass == 4, 'Age']\n",
    "P_5 = temp.loc[temp.Pclass == 5, 'Age']"
   ]
  },
  {
   "cell_type": "markdown",
   "metadata": {
    "id": "Ubik6qeWoO8G"
   },
   "source": [
    "#### 2) anova"
   ]
  },
  {
   "cell_type": "code",
   "execution_count": 36,
   "metadata": {
    "id": "DiZy6QH4ivkR"
   },
   "outputs": [
    {
     "data": {
      "text/plain": [
       "F_onewayResult(statistic=57.443484340676214, pvalue=7.487984171959904e-24)"
      ]
     },
     "execution_count": 36,
     "metadata": {},
     "output_type": "execute_result"
    }
   ],
   "source": [
    "spst.f_oneway(P_1, P_2, P_3)"
   ]
  },
  {
   "cell_type": "markdown",
   "metadata": {
    "id": "e2ozg2zSobPl"
   },
   "source": [
    "<img src='https://raw.githubusercontent.com/jangrae/img/master/practice_01.png' width=120 align=\"left\"/>"
   ]
  },
  {
   "cell_type": "markdown",
   "metadata": {
    "id": "g7bv5AsgN0sz"
   },
   "source": [
    "* [문1] 승선지역(Embarked)별로 운임에 차이가 있을 것이다. \n",
    "    * 시각화와 수치화로 확인해 봅시다."
   ]
  },
  {
   "cell_type": "code",
   "execution_count": 40,
   "metadata": {
    "id": "vAnDZNO_cw5-"
   },
   "outputs": [
    {
     "data": {
      "image/png": "[encoded data removed]",
      "text/plain": [
       "<Figure size 640x480 with 1 Axes>"
      ]
     },
     "metadata": {},
     "output_type": "display_data"
    }
   ],
   "source": [
    "sns.barplot(x=\"Embarked\", y=\"Fare\", data=titanic)\n",
    "plt.grid()\n",
    "plt.show()"
   ]
  },
  {
   "cell_type": "code",
   "execution_count": 43,
   "metadata": {
    "id": "OT7UdgWucw20"
   },
   "outputs": [
    {
     "data": {
      "text/plain": [
       "F_onewayResult(statistic=35.89219045311384, pvalue=1.4184349041133077e-15)"
      ]
     },
     "execution_count": 43,
     "metadata": {},
     "output_type": "execute_result"
    }
   ],
   "source": [
    "# NaN 행 제외\n",
    "temp = titanic.loc[titanic['Age'].notnull()]\n",
    "# 그룹별 저장\n",
    "E_S = temp.loc[temp.Embarked == 'S', 'Fare']\n",
    "E_C = temp.loc[temp.Embarked == 'C', 'Fare']\n",
    "E_Q = temp.loc[temp.Embarked == 'Q', 'Fare']\n",
    "\n",
    "spst.f_oneway(E_S, E_C, E_Q)"
   ]
  },
  {
   "cell_type": "markdown",
   "metadata": {
    "id": "WXN5vL5kdGOC"
   },
   "source": [
    "* [문2] 객실등급(Pclass)별로 운임에 차이가 있을 것이다. \n",
    "    * 시각화와 수치화로 확인해 봅시다."
   ]
  },
  {
   "cell_type": "code",
   "execution_count": null,
   "metadata": {
    "id": "XtUyw9q5dGOC"
   },
   "outputs": [],
   "source": []
  },
  {
   "cell_type": "code",
   "execution_count": null,
   "metadata": {
    "id": "t8poRLRadGOC"
   },
   "outputs": [],
   "source": []
  },
  {
   "cell_type": "markdown",
   "metadata": {
    "id": "wLr2XuUQPO1Z"
   },
   "source": [
    "## 4.복습문제"
   ]
  },
  {
   "cell_type": "markdown",
   "metadata": {
    "id": "86VGe26mPpzY"
   },
   "source": [
    "air quality 데이터셋으로 다음 문제를 풀어 봅시다."
   ]
  },
  {
   "cell_type": "markdown",
   "metadata": {
    "id": "cpYg7nb6i2Ng"
   },
   "source": [
    "* 라이브러리 불러오기"
   ]
  },
  {
   "cell_type": "code",
   "execution_count": null,
   "metadata": {
    "id": "BKzRei8Fi2Ng"
   },
   "outputs": [],
   "source": [
    "import pandas as pd\n",
    "import numpy as np\n",
    "import random as rd\n",
    "\n",
    "import matplotlib.pyplot as plt\n",
    "import seaborn as sns\n",
    "\n",
    "import scipy.stats as spst"
   ]
  },
  {
   "cell_type": "markdown",
   "metadata": {
    "id": "fvhn9N2nQEC0"
   },
   "source": [
    "* 데이터불러오기"
   ]
  },
  {
   "cell_type": "code",
   "execution_count": null,
   "metadata": {
    "id": "1koagNJgPQ-h"
   },
   "outputs": [],
   "source": [
    "# 뉴욕시 공기 오염도 데이터\n",
    "air = pd.read_csv('https://raw.githubusercontent.com/DA4BAM/dataset/master/air2.csv')\n",
    "air['Date'] = pd.to_datetime(air['Date'])\n",
    "air['Month'] = air.Date.dt.month\n",
    "air['Weekday'] = air.Date.dt.weekday\n",
    "air['Weekend'] = np.where(air['Weekday'] >=5, 1, 0)\n",
    "air.head()"
   ]
  },
  {
   "cell_type": "markdown",
   "metadata": {
    "id": "F7h7khvHQZ30"
   },
   "source": [
    "* 1) 주말여부(Weekend) --> 오존농도(Ozone)와의 관계를 시각화하고, 가설검정을 수행해 봅시다."
   ]
  },
  {
   "cell_type": "code",
   "execution_count": null,
   "metadata": {
    "id": "6MXageFQc0_4"
   },
   "outputs": [],
   "source": []
  },
  {
   "cell_type": "code",
   "execution_count": null,
   "metadata": {
    "id": "41-X-a1Qc088"
   },
   "outputs": [],
   "source": []
  },
  {
   "cell_type": "markdown",
   "metadata": {
    "id": "gEISFGtjRFrU"
   },
   "source": [
    "* 2) 요일(Weekday) --> 오존농도(Ozone)와의 관계를 시각화하고, 가설검정을 수행해 봅시다."
   ]
  },
  {
   "cell_type": "code",
   "execution_count": null,
   "metadata": {
    "id": "iF3rbVX9c2Kw"
   },
   "outputs": [],
   "source": []
  },
  {
   "cell_type": "code",
   "execution_count": null,
   "metadata": {
    "id": "33oTxUMGc1UR"
   },
   "outputs": [],
   "source": []
  },
  {
   "cell_type": "markdown",
   "metadata": {
    "id": "UFrJKGtoSYMa"
   },
   "source": [
    "* 3) 월(Month) --> 오존농도(Ozone)와의 관계를 시각화하고, 가설검정을 수행해 봅시다."
   ]
  },
  {
   "cell_type": "code",
   "execution_count": null,
   "metadata": {
    "id": "xBLYMRLuc2qJ"
   },
   "outputs": [],
   "source": []
  },
  {
   "cell_type": "code",
   "execution_count": null,
   "metadata": {
    "id": "A3OvqU8aR8hn"
   },
   "outputs": [],
   "source": []
  }
 ],
 "metadata": {
  "colab": {
   "provenance": [],
   "toc_visible": true
  },
  "kernelspec": {
   "display_name": "Python 3 (ipykernel)",
   "language": "python",
   "name": "python3"
  },
  "language_info": {
   "codemirror_mode": {
    "name": "ipython",
    "version": 3
   },
   "file_extension": ".py",
   "mimetype": "text/x-python",
   "name": "python",
   "nbconvert_exporter": "python",
   "pygments_lexer": "ipython3",
   "version": "3.9.13"
  }
 },
 "nbformat": 4,
 "nbformat_minor": 4
}
