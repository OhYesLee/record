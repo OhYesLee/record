{
 "cells": [
  {
   "cell_type": "markdown",
   "metadata": {
    "id": "w8C_iSSpYnVO"
   },
   "source": [
    "# 02 - 데이터프레임 결합\n"
   ]
  },
  {
   "cell_type": "markdown",
   "metadata": {
    "id": "PgakzyhIgKhS"
   },
   "source": [
    "## 1.환경준비"
   ]
  },
  {
   "cell_type": "markdown",
   "metadata": {
    "id": "fajHvynEg-Ap"
   },
   "source": [
    "* 라이브러리 불러오기"
   ]
  },
  {
   "cell_type": "code",
   "execution_count": 3,
   "metadata": {
    "id": "Wj4uhna8sPHm"
   },
   "outputs": [],
   "source": [
    "import pandas as pd\n",
    "import numpy as np\n",
    "import matplotlib.pyplot as plt\n",
    "import seaborn as sns"
   ]
  },
  {
   "cell_type": "markdown",
   "metadata": {
    "id": "oeEZKCu-2lWM"
   },
   "source": [
    "* 데이터 가져오기"
   ]
  },
  {
   "cell_type": "code",
   "execution_count": 2,
   "metadata": {
    "id": "qE9uXpyO6XGq"
   },
   "outputs": [],
   "source": [
    "sales = pd.read_csv(\"https://raw.githubusercontent.com/DA4BAM/dataset/master/ts_sales_simple.csv\")\n",
    "\n",
    "sales1 = sales.loc[sales['Store_ID']==1]\n",
    "sales2 = sales.loc[sales['Store_ID']==2]\n",
    "sales5 = sales.loc[sales['Store_ID']==5]\n",
    "sales11 = sales.loc[sales['Store_ID']==11]\n",
    "\n",
    "products = pd.read_csv(\"https://raw.githubusercontent.com/DA4BAM/dataset/master/ts_product_master.csv\")\n",
    "stores = pd.read_csv(\"https://raw.githubusercontent.com/DA4BAM/dataset/master/ts_store_master.csv\")"
   ]
  },
  {
   "cell_type": "code",
   "execution_count": 3,
   "metadata": {
    "id": "P3AfPidZTfPc"
   },
   "outputs": [
    {
     "data": {
      "text/html": [
       "<div>\n",
       "<style scoped>\n",
       "    .dataframe tbody tr th:only-of-type {\n",
       "        vertical-align: middle;\n",
       "    }\n",
       "\n",
       "    .dataframe tbody tr th {\n",
       "        vertical-align: top;\n",
       "    }\n",
       "\n",
       "    .dataframe thead th {\n",
       "        text-align: right;\n",
       "    }\n",
       "</style>\n",
       "<table border=\"1\" class=\"dataframe\">\n",
       "  <thead>\n",
       "    <tr style=\"text-align: right;\">\n",
       "      <th></th>\n",
       "      <th>Order_ID</th>\n",
       "      <th>Date</th>\n",
       "      <th>Store_ID</th>\n",
       "      <th>Qty</th>\n",
       "      <th>Product_ID</th>\n",
       "    </tr>\n",
       "  </thead>\n",
       "  <tbody>\n",
       "    <tr>\n",
       "      <th>0</th>\n",
       "      <td>3</td>\n",
       "      <td>2013-01-01</td>\n",
       "      <td>1</td>\n",
       "      <td>0.0</td>\n",
       "      <td>3</td>\n",
       "    </tr>\n",
       "    <tr>\n",
       "      <th>1</th>\n",
       "      <td>5</td>\n",
       "      <td>2013-01-01</td>\n",
       "      <td>1</td>\n",
       "      <td>0.0</td>\n",
       "      <td>5</td>\n",
       "    </tr>\n",
       "    <tr>\n",
       "      <th>2</th>\n",
       "      <td>7</td>\n",
       "      <td>2013-01-01</td>\n",
       "      <td>1</td>\n",
       "      <td>0.0</td>\n",
       "      <td>7</td>\n",
       "    </tr>\n",
       "    <tr>\n",
       "      <th>3</th>\n",
       "      <td>8</td>\n",
       "      <td>2013-01-01</td>\n",
       "      <td>1</td>\n",
       "      <td>0.0</td>\n",
       "      <td>8</td>\n",
       "    </tr>\n",
       "    <tr>\n",
       "      <th>4</th>\n",
       "      <td>10</td>\n",
       "      <td>2013-01-01</td>\n",
       "      <td>1</td>\n",
       "      <td>0.0</td>\n",
       "      <td>10</td>\n",
       "    </tr>\n",
       "  </tbody>\n",
       "</table>\n",
       "</div>"
      ],
      "text/plain": [
       "   Order_ID        Date  Store_ID  Qty  Product_ID\n",
       "0         3  2013-01-01         1  0.0           3\n",
       "1         5  2013-01-01         1  0.0           5\n",
       "2         7  2013-01-01         1  0.0           7\n",
       "3         8  2013-01-01         1  0.0           8\n",
       "4        10  2013-01-01         1  0.0          10"
      ]
     },
     "execution_count": 3,
     "metadata": {},
     "output_type": "execute_result"
    }
   ],
   "source": [
    "sales1.head()"
   ]
  },
  {
   "cell_type": "code",
   "execution_count": 6,
   "metadata": {
    "id": "SHuEayckThCw"
   },
   "outputs": [
    {
     "data": {
      "text/html": [
       "<div>\n",
       "<style scoped>\n",
       "    .dataframe tbody tr th:only-of-type {\n",
       "        vertical-align: middle;\n",
       "    }\n",
       "\n",
       "    .dataframe tbody tr th {\n",
       "        vertical-align: top;\n",
       "    }\n",
       "\n",
       "    .dataframe thead th {\n",
       "        text-align: right;\n",
       "    }\n",
       "</style>\n",
       "<table border=\"1\" class=\"dataframe\">\n",
       "  <thead>\n",
       "    <tr style=\"text-align: right;\">\n",
       "      <th></th>\n",
       "      <th>Product_ID</th>\n",
       "      <th>Product_Code</th>\n",
       "      <th>SubCategory</th>\n",
       "      <th>Category</th>\n",
       "      <th>LeadTime</th>\n",
       "      <th>Price</th>\n",
       "    </tr>\n",
       "  </thead>\n",
       "  <tbody>\n",
       "    <tr>\n",
       "      <th>0</th>\n",
       "      <td>20</td>\n",
       "      <td>HG001</td>\n",
       "      <td>Gardening Tools</td>\n",
       "      <td>Household Goods</td>\n",
       "      <td>2</td>\n",
       "      <td>50</td>\n",
       "    </tr>\n",
       "    <tr>\n",
       "      <th>1</th>\n",
       "      <td>27</td>\n",
       "      <td>HH001</td>\n",
       "      <td>Home Appliances</td>\n",
       "      <td>Household Goods</td>\n",
       "      <td>2</td>\n",
       "      <td>150</td>\n",
       "    </tr>\n",
       "    <tr>\n",
       "      <th>2</th>\n",
       "      <td>16</td>\n",
       "      <td>HK001</td>\n",
       "      <td>Kitchen</td>\n",
       "      <td>Household Goods</td>\n",
       "      <td>2</td>\n",
       "      <td>23</td>\n",
       "    </tr>\n",
       "    <tr>\n",
       "      <th>3</th>\n",
       "      <td>15</td>\n",
       "      <td>HK002</td>\n",
       "      <td>Kitchen</td>\n",
       "      <td>Household Goods</td>\n",
       "      <td>2</td>\n",
       "      <td>41</td>\n",
       "    </tr>\n",
       "    <tr>\n",
       "      <th>4</th>\n",
       "      <td>32</td>\n",
       "      <td>GS001</td>\n",
       "      <td>Seafood</td>\n",
       "      <td>Grocery</td>\n",
       "      <td>3</td>\n",
       "      <td>34</td>\n",
       "    </tr>\n",
       "  </tbody>\n",
       "</table>\n",
       "</div>"
      ],
      "text/plain": [
       "   Product_ID Product_Code      SubCategory         Category  LeadTime  Price\n",
       "0          20        HG001  Gardening Tools  Household Goods         2     50\n",
       "1          27        HH001  Home Appliances  Household Goods         2    150\n",
       "2          16        HK001          Kitchen  Household Goods         2     23\n",
       "3          15        HK002          Kitchen  Household Goods         2     41\n",
       "4          32        GS001          Seafood          Grocery         3     34"
      ]
     },
     "execution_count": 6,
     "metadata": {},
     "output_type": "execute_result"
    }
   ],
   "source": [
    "products.head()\n",
    "# LeadTime 공급시간"
   ]
  },
  {
   "cell_type": "code",
   "execution_count": 5,
   "metadata": {
    "id": "yJ9WaUXwTjQG"
   },
   "outputs": [
    {
     "data": {
      "text/html": [
       "<div>\n",
       "<style scoped>\n",
       "    .dataframe tbody tr th:only-of-type {\n",
       "        vertical-align: middle;\n",
       "    }\n",
       "\n",
       "    .dataframe tbody tr th {\n",
       "        vertical-align: top;\n",
       "    }\n",
       "\n",
       "    .dataframe thead th {\n",
       "        text-align: right;\n",
       "    }\n",
       "</style>\n",
       "<table border=\"1\" class=\"dataframe\">\n",
       "  <thead>\n",
       "    <tr style=\"text-align: right;\">\n",
       "      <th></th>\n",
       "      <th>Store_ID</th>\n",
       "      <th>City</th>\n",
       "      <th>State</th>\n",
       "      <th>Store_Type</th>\n",
       "    </tr>\n",
       "  </thead>\n",
       "  <tbody>\n",
       "    <tr>\n",
       "      <th>0</th>\n",
       "      <td>1</td>\n",
       "      <td>Saint Paul</td>\n",
       "      <td>Minnesota</td>\n",
       "      <td>4</td>\n",
       "    </tr>\n",
       "    <tr>\n",
       "      <th>1</th>\n",
       "      <td>2</td>\n",
       "      <td>Saint Paul</td>\n",
       "      <td>Minnesota</td>\n",
       "      <td>4</td>\n",
       "    </tr>\n",
       "    <tr>\n",
       "      <th>2</th>\n",
       "      <td>3</td>\n",
       "      <td>Saint Paul</td>\n",
       "      <td>Minnesota</td>\n",
       "      <td>4</td>\n",
       "    </tr>\n",
       "    <tr>\n",
       "      <th>3</th>\n",
       "      <td>4</td>\n",
       "      <td>Saint Paul</td>\n",
       "      <td>Minnesota</td>\n",
       "      <td>4</td>\n",
       "    </tr>\n",
       "    <tr>\n",
       "      <th>4</th>\n",
       "      <td>5</td>\n",
       "      <td>Oklahoma City</td>\n",
       "      <td>Oklahoma</td>\n",
       "      <td>4</td>\n",
       "    </tr>\n",
       "  </tbody>\n",
       "</table>\n",
       "</div>"
      ],
      "text/plain": [
       "   Store_ID           City      State  Store_Type\n",
       "0         1     Saint Paul  Minnesota           4\n",
       "1         2     Saint Paul  Minnesota           4\n",
       "2         3     Saint Paul  Minnesota           4\n",
       "3         4     Saint Paul  Minnesota           4\n",
       "4         5  Oklahoma City   Oklahoma           4"
      ]
     },
     "execution_count": 5,
     "metadata": {},
     "output_type": "execute_result"
    }
   ],
   "source": [
    "stores.head()"
   ]
  },
  {
   "cell_type": "markdown",
   "metadata": {
    "id": "_QkN9xQsUJ2P"
   },
   "source": [
    "## 2.결합1 : 붙이기 concat()"
   ]
  },
  {
   "cell_type": "markdown",
   "metadata": {
    "id": "MarKYX5hU8hf"
   },
   "source": [
    "* 데이터를 생성해 봅시다."
   ]
  },
  {
   "cell_type": "code",
   "execution_count": 9,
   "metadata": {},
   "outputs": [
    {
     "name": "stdout",
     "output_type": "stream",
     "text": [
      "    A   B\n",
      "0  10  15\n",
      "1  25  30\n"
     ]
    }
   ],
   "source": [
    "print(df1)"
   ]
  },
  {
   "cell_type": "code",
   "execution_count": 8,
   "metadata": {
    "id": "wZ_EzvagUX4Z"
   },
   "outputs": [
    {
     "data": {
      "text/html": [
       "<div>\n",
       "<style scoped>\n",
       "    .dataframe tbody tr th:only-of-type {\n",
       "        vertical-align: middle;\n",
       "    }\n",
       "\n",
       "    .dataframe tbody tr th {\n",
       "        vertical-align: top;\n",
       "    }\n",
       "\n",
       "    .dataframe thead th {\n",
       "        text-align: right;\n",
       "    }\n",
       "</style>\n",
       "<table border=\"1\" class=\"dataframe\">\n",
       "  <thead>\n",
       "    <tr style=\"text-align: right;\">\n",
       "      <th></th>\n",
       "      <th>A</th>\n",
       "      <th>B</th>\n",
       "    </tr>\n",
       "  </thead>\n",
       "  <tbody>\n",
       "    <tr>\n",
       "      <th>0</th>\n",
       "      <td>10</td>\n",
       "      <td>15</td>\n",
       "    </tr>\n",
       "    <tr>\n",
       "      <th>1</th>\n",
       "      <td>25</td>\n",
       "      <td>30</td>\n",
       "    </tr>\n",
       "  </tbody>\n",
       "</table>\n",
       "</div>"
      ],
      "text/plain": [
       "    A   B\n",
       "0  10  15\n",
       "1  25  30"
      ]
     },
     "metadata": {},
     "output_type": "display_data"
    },
    {
     "data": {
      "text/html": [
       "<div>\n",
       "<style scoped>\n",
       "    .dataframe tbody tr th:only-of-type {\n",
       "        vertical-align: middle;\n",
       "    }\n",
       "\n",
       "    .dataframe tbody tr th {\n",
       "        vertical-align: top;\n",
       "    }\n",
       "\n",
       "    .dataframe thead th {\n",
       "        text-align: right;\n",
       "    }\n",
       "</style>\n",
       "<table border=\"1\" class=\"dataframe\">\n",
       "  <thead>\n",
       "    <tr style=\"text-align: right;\">\n",
       "      <th></th>\n",
       "      <th>A</th>\n",
       "      <th>C</th>\n",
       "    </tr>\n",
       "  </thead>\n",
       "  <tbody>\n",
       "    <tr>\n",
       "      <th>0</th>\n",
       "      <td>20</td>\n",
       "      <td>35</td>\n",
       "    </tr>\n",
       "    <tr>\n",
       "      <th>2</th>\n",
       "      <td>50</td>\n",
       "      <td>40</td>\n",
       "    </tr>\n",
       "  </tbody>\n",
       "</table>\n",
       "</div>"
      ],
      "text/plain": [
       "    A   C\n",
       "0  20  35\n",
       "2  50  40"
      ]
     },
     "metadata": {},
     "output_type": "display_data"
    }
   ],
   "source": [
    "df1 = pd.DataFrame({'A':[10,25], 'B':[15,30]})\n",
    "df2 = pd.DataFrame({'A':[20,30, 50], 'C':[35,30, 40]})\n",
    "df2.drop([1],axis = 0, inplace = True)\n",
    "#axis = 0 디폴트값\n",
    "display(df1)\n",
    "display(df2)"
   ]
  },
  {
   "cell_type": "markdown",
   "metadata": {
    "id": "clAUrp5XVCA9"
   },
   "source": [
    "#### (1) 세로로 합치기 : axis = 0"
   ]
  },
  {
   "cell_type": "markdown",
   "metadata": {
    "id": "STeaVJv0VJb4"
   },
   "source": [
    "* join = 'inner'"
   ]
  },
  {
   "cell_type": "code",
   "execution_count": 11,
   "metadata": {},
   "outputs": [
    {
     "data": {
      "text/html": [
       "<div>\n",
       "<style scoped>\n",
       "    .dataframe tbody tr th:only-of-type {\n",
       "        vertical-align: middle;\n",
       "    }\n",
       "\n",
       "    .dataframe tbody tr th {\n",
       "        vertical-align: top;\n",
       "    }\n",
       "\n",
       "    .dataframe thead th {\n",
       "        text-align: right;\n",
       "    }\n",
       "</style>\n",
       "<table border=\"1\" class=\"dataframe\">\n",
       "  <thead>\n",
       "    <tr style=\"text-align: right;\">\n",
       "      <th></th>\n",
       "      <th>A</th>\n",
       "    </tr>\n",
       "  </thead>\n",
       "  <tbody>\n",
       "    <tr>\n",
       "      <th>0</th>\n",
       "      <td>10</td>\n",
       "    </tr>\n",
       "    <tr>\n",
       "      <th>1</th>\n",
       "      <td>25</td>\n",
       "    </tr>\n",
       "    <tr>\n",
       "      <th>0</th>\n",
       "      <td>20</td>\n",
       "    </tr>\n",
       "    <tr>\n",
       "      <th>2</th>\n",
       "      <td>50</td>\n",
       "    </tr>\n",
       "  </tbody>\n",
       "</table>\n",
       "</div>"
      ],
      "text/plain": [
       "    A\n",
       "0  10\n",
       "1  25\n",
       "0  20\n",
       "2  50"
      ]
     },
     "execution_count": 11,
     "metadata": {},
     "output_type": "execute_result"
    }
   ],
   "source": [
    "temp = pd.concat([df1, df2], axis = 0, join = 'inner')\n",
    "temp"
   ]
  },
  {
   "cell_type": "code",
   "execution_count": 10,
   "metadata": {
    "id": "7VKskmgyU7_D"
   },
   "outputs": [
    {
     "data": {
      "text/html": [
       "<div>\n",
       "<style scoped>\n",
       "    .dataframe tbody tr th:only-of-type {\n",
       "        vertical-align: middle;\n",
       "    }\n",
       "\n",
       "    .dataframe tbody tr th {\n",
       "        vertical-align: top;\n",
       "    }\n",
       "\n",
       "    .dataframe thead th {\n",
       "        text-align: right;\n",
       "    }\n",
       "</style>\n",
       "<table border=\"1\" class=\"dataframe\">\n",
       "  <thead>\n",
       "    <tr style=\"text-align: right;\">\n",
       "      <th></th>\n",
       "      <th>A</th>\n",
       "    </tr>\n",
       "  </thead>\n",
       "  <tbody>\n",
       "    <tr>\n",
       "      <th>0</th>\n",
       "      <td>10</td>\n",
       "    </tr>\n",
       "    <tr>\n",
       "      <th>1</th>\n",
       "      <td>25</td>\n",
       "    </tr>\n",
       "    <tr>\n",
       "      <th>0</th>\n",
       "      <td>20</td>\n",
       "    </tr>\n",
       "    <tr>\n",
       "      <th>2</th>\n",
       "      <td>50</td>\n",
       "    </tr>\n",
       "  </tbody>\n",
       "</table>\n",
       "</div>"
      ],
      "text/plain": [
       "    A\n",
       "0  10\n",
       "1  25\n",
       "0  20\n",
       "2  50"
      ]
     },
     "execution_count": 10,
     "metadata": {},
     "output_type": "execute_result"
    }
   ],
   "source": [
    "pd.concat([df1, df2], axis = 0, join = 'inner')"
   ]
  },
  {
   "cell_type": "markdown",
   "metadata": {
    "id": "Pa4EFD-uVSj_"
   },
   "source": [
    "* join = 'outer'"
   ]
  },
  {
   "cell_type": "code",
   "execution_count": 12,
   "metadata": {
    "id": "S_sMDGzsVSkA"
   },
   "outputs": [
    {
     "data": {
      "text/html": [
       "<div>\n",
       "<style scoped>\n",
       "    .dataframe tbody tr th:only-of-type {\n",
       "        vertical-align: middle;\n",
       "    }\n",
       "\n",
       "    .dataframe tbody tr th {\n",
       "        vertical-align: top;\n",
       "    }\n",
       "\n",
       "    .dataframe thead th {\n",
       "        text-align: right;\n",
       "    }\n",
       "</style>\n",
       "<table border=\"1\" class=\"dataframe\">\n",
       "  <thead>\n",
       "    <tr style=\"text-align: right;\">\n",
       "      <th></th>\n",
       "      <th>A</th>\n",
       "      <th>B</th>\n",
       "      <th>C</th>\n",
       "    </tr>\n",
       "  </thead>\n",
       "  <tbody>\n",
       "    <tr>\n",
       "      <th>0</th>\n",
       "      <td>10</td>\n",
       "      <td>15.0</td>\n",
       "      <td>NaN</td>\n",
       "    </tr>\n",
       "    <tr>\n",
       "      <th>1</th>\n",
       "      <td>25</td>\n",
       "      <td>30.0</td>\n",
       "      <td>NaN</td>\n",
       "    </tr>\n",
       "    <tr>\n",
       "      <th>0</th>\n",
       "      <td>20</td>\n",
       "      <td>NaN</td>\n",
       "      <td>35.0</td>\n",
       "    </tr>\n",
       "    <tr>\n",
       "      <th>2</th>\n",
       "      <td>50</td>\n",
       "      <td>NaN</td>\n",
       "      <td>40.0</td>\n",
       "    </tr>\n",
       "  </tbody>\n",
       "</table>\n",
       "</div>"
      ],
      "text/plain": [
       "    A     B     C\n",
       "0  10  15.0   NaN\n",
       "1  25  30.0   NaN\n",
       "0  20   NaN  35.0\n",
       "2  50   NaN  40.0"
      ]
     },
     "execution_count": 12,
     "metadata": {},
     "output_type": "execute_result"
    }
   ],
   "source": [
    "pd.concat([df1, df2], axis = 0, join = 'outer')"
   ]
  },
  {
   "cell_type": "markdown",
   "metadata": {
    "id": "z-IlfZMAVXdZ"
   },
   "source": [
    "#### (2) 가로로 합치기 : axis = 1"
   ]
  },
  {
   "cell_type": "markdown",
   "metadata": {
    "id": "Ur9ZFS9rVXda"
   },
   "source": [
    "* join = 'inner'"
   ]
  },
  {
   "cell_type": "code",
   "execution_count": 13,
   "metadata": {},
   "outputs": [
    {
     "name": "stdout",
     "output_type": "stream",
     "text": [
      "    A   B\n",
      "0  10  15\n",
      "1  25  30\n",
      "    A   C\n",
      "0  20  35\n",
      "2  50  40\n"
     ]
    }
   ],
   "source": [
    "print(df1)\n",
    "print(df2)"
   ]
  },
  {
   "cell_type": "code",
   "execution_count": 15,
   "metadata": {
    "id": "Vhoat2HVVXda"
   },
   "outputs": [
    {
     "data": {
      "text/html": [
       "<div>\n",
       "<style scoped>\n",
       "    .dataframe tbody tr th:only-of-type {\n",
       "        vertical-align: middle;\n",
       "    }\n",
       "\n",
       "    .dataframe tbody tr th {\n",
       "        vertical-align: top;\n",
       "    }\n",
       "\n",
       "    .dataframe thead th {\n",
       "        text-align: right;\n",
       "    }\n",
       "</style>\n",
       "<table border=\"1\" class=\"dataframe\">\n",
       "  <thead>\n",
       "    <tr style=\"text-align: right;\">\n",
       "      <th></th>\n",
       "      <th>A</th>\n",
       "      <th>B</th>\n",
       "      <th>A</th>\n",
       "      <th>C</th>\n",
       "    </tr>\n",
       "  </thead>\n",
       "  <tbody>\n",
       "    <tr>\n",
       "      <th>0</th>\n",
       "      <td>10</td>\n",
       "      <td>15</td>\n",
       "      <td>20</td>\n",
       "      <td>35</td>\n",
       "    </tr>\n",
       "  </tbody>\n",
       "</table>\n",
       "</div>"
      ],
      "text/plain": [
       "    A   B   A   C\n",
       "0  10  15  20  35"
      ]
     },
     "execution_count": 15,
     "metadata": {},
     "output_type": "execute_result"
    }
   ],
   "source": [
    "temp2 = pd.concat([df1, df2], axis = 1, join = 'inner')\n",
    "temp2"
   ]
  },
  {
   "cell_type": "markdown",
   "metadata": {
    "id": "wduBNunVVXda"
   },
   "source": [
    "* join = 'outer'"
   ]
  },
  {
   "cell_type": "code",
   "execution_count": 17,
   "metadata": {
    "id": "qkscVsGgVXda"
   },
   "outputs": [
    {
     "data": {
      "text/html": [
       "<div>\n",
       "<style scoped>\n",
       "    .dataframe tbody tr th:only-of-type {\n",
       "        vertical-align: middle;\n",
       "    }\n",
       "\n",
       "    .dataframe tbody tr th {\n",
       "        vertical-align: top;\n",
       "    }\n",
       "\n",
       "    .dataframe thead th {\n",
       "        text-align: right;\n",
       "    }\n",
       "</style>\n",
       "<table border=\"1\" class=\"dataframe\">\n",
       "  <thead>\n",
       "    <tr style=\"text-align: right;\">\n",
       "      <th></th>\n",
       "      <th>A</th>\n",
       "      <th>B</th>\n",
       "      <th>A</th>\n",
       "      <th>C</th>\n",
       "    </tr>\n",
       "  </thead>\n",
       "  <tbody>\n",
       "    <tr>\n",
       "      <th>0</th>\n",
       "      <td>10.0</td>\n",
       "      <td>15.0</td>\n",
       "      <td>20.0</td>\n",
       "      <td>35.0</td>\n",
       "    </tr>\n",
       "    <tr>\n",
       "      <th>1</th>\n",
       "      <td>25.0</td>\n",
       "      <td>30.0</td>\n",
       "      <td>NaN</td>\n",
       "      <td>NaN</td>\n",
       "    </tr>\n",
       "    <tr>\n",
       "      <th>2</th>\n",
       "      <td>NaN</td>\n",
       "      <td>NaN</td>\n",
       "      <td>50.0</td>\n",
       "      <td>40.0</td>\n",
       "    </tr>\n",
       "  </tbody>\n",
       "</table>\n",
       "</div>"
      ],
      "text/plain": [
       "      A     B     A     C\n",
       "0  10.0  15.0  20.0  35.0\n",
       "1  25.0  30.0   NaN   NaN\n",
       "2   NaN   NaN  50.0  40.0"
      ]
     },
     "execution_count": 17,
     "metadata": {},
     "output_type": "execute_result"
    }
   ],
   "source": [
    "pd.concat([df1, df2], axis = 1, join = 'outer') # NaN 결측치 "
   ]
  },
  {
   "cell_type": "markdown",
   "metadata": {
    "id": "FCNi3cMP-1T6"
   },
   "source": [
    "<img src='https://raw.githubusercontent.com/jangrae/img/master/practice_01.png' width=120 align=\"left\"/>"
   ]
  },
  {
   "cell_type": "markdown",
   "metadata": {
    "id": "BB42jPlS-1UL"
   },
   "source": [
    "[문1] sales1,2,5,11 데이터프레임을 하나로 합칩시다. 어떻게 합치는게 좋을까요?"
   ]
  },
  {
   "cell_type": "code",
   "execution_count": 19,
   "metadata": {},
   "outputs": [
    {
     "data": {
      "text/html": [
       "<div>\n",
       "<style scoped>\n",
       "    .dataframe tbody tr th:only-of-type {\n",
       "        vertical-align: middle;\n",
       "    }\n",
       "\n",
       "    .dataframe tbody tr th {\n",
       "        vertical-align: top;\n",
       "    }\n",
       "\n",
       "    .dataframe thead th {\n",
       "        text-align: right;\n",
       "    }\n",
       "</style>\n",
       "<table border=\"1\" class=\"dataframe\">\n",
       "  <thead>\n",
       "    <tr style=\"text-align: right;\">\n",
       "      <th></th>\n",
       "      <th>Order_ID</th>\n",
       "      <th>Date</th>\n",
       "      <th>Store_ID</th>\n",
       "      <th>Qty</th>\n",
       "      <th>Product_ID</th>\n",
       "    </tr>\n",
       "  </thead>\n",
       "  <tbody>\n",
       "    <tr>\n",
       "      <th>0</th>\n",
       "      <td>3</td>\n",
       "      <td>2013-01-01</td>\n",
       "      <td>1</td>\n",
       "      <td>0.0</td>\n",
       "      <td>3</td>\n",
       "    </tr>\n",
       "    <tr>\n",
       "      <th>1</th>\n",
       "      <td>5</td>\n",
       "      <td>2013-01-01</td>\n",
       "      <td>1</td>\n",
       "      <td>0.0</td>\n",
       "      <td>5</td>\n",
       "    </tr>\n",
       "    <tr>\n",
       "      <th>2</th>\n",
       "      <td>7</td>\n",
       "      <td>2013-01-01</td>\n",
       "      <td>1</td>\n",
       "      <td>0.0</td>\n",
       "      <td>7</td>\n",
       "    </tr>\n",
       "    <tr>\n",
       "      <th>3</th>\n",
       "      <td>8</td>\n",
       "      <td>2013-01-01</td>\n",
       "      <td>1</td>\n",
       "      <td>0.0</td>\n",
       "      <td>8</td>\n",
       "    </tr>\n",
       "    <tr>\n",
       "      <th>4</th>\n",
       "      <td>10</td>\n",
       "      <td>2013-01-01</td>\n",
       "      <td>1</td>\n",
       "      <td>0.0</td>\n",
       "      <td>10</td>\n",
       "    </tr>\n",
       "  </tbody>\n",
       "</table>\n",
       "</div>"
      ],
      "text/plain": [
       "   Order_ID        Date  Store_ID  Qty  Product_ID\n",
       "0         3  2013-01-01         1  0.0           3\n",
       "1         5  2013-01-01         1  0.0           5\n",
       "2         7  2013-01-01         1  0.0           7\n",
       "3         8  2013-01-01         1  0.0           8\n",
       "4        10  2013-01-01         1  0.0          10"
      ]
     },
     "execution_count": 19,
     "metadata": {},
     "output_type": "execute_result"
    }
   ],
   "source": [
    "sales1.head()"
   ]
  },
  {
   "cell_type": "code",
   "execution_count": 20,
   "metadata": {},
   "outputs": [
    {
     "data": {
      "text/html": [
       "<div>\n",
       "<style scoped>\n",
       "    .dataframe tbody tr th:only-of-type {\n",
       "        vertical-align: middle;\n",
       "    }\n",
       "\n",
       "    .dataframe tbody tr th {\n",
       "        vertical-align: top;\n",
       "    }\n",
       "\n",
       "    .dataframe thead th {\n",
       "        text-align: right;\n",
       "    }\n",
       "</style>\n",
       "<table border=\"1\" class=\"dataframe\">\n",
       "  <thead>\n",
       "    <tr style=\"text-align: right;\">\n",
       "      <th></th>\n",
       "      <th>Order_ID</th>\n",
       "      <th>Date</th>\n",
       "      <th>Store_ID</th>\n",
       "      <th>Qty</th>\n",
       "      <th>Product_ID</th>\n",
       "    </tr>\n",
       "  </thead>\n",
       "  <tbody>\n",
       "    <tr>\n",
       "      <th>165</th>\n",
       "      <td>366</td>\n",
       "      <td>2013-01-01</td>\n",
       "      <td>2</td>\n",
       "      <td>0.0</td>\n",
       "      <td>3</td>\n",
       "    </tr>\n",
       "    <tr>\n",
       "      <th>166</th>\n",
       "      <td>368</td>\n",
       "      <td>2013-01-01</td>\n",
       "      <td>2</td>\n",
       "      <td>0.0</td>\n",
       "      <td>5</td>\n",
       "    </tr>\n",
       "    <tr>\n",
       "      <th>167</th>\n",
       "      <td>370</td>\n",
       "      <td>2013-01-01</td>\n",
       "      <td>2</td>\n",
       "      <td>0.0</td>\n",
       "      <td>7</td>\n",
       "    </tr>\n",
       "    <tr>\n",
       "      <th>168</th>\n",
       "      <td>371</td>\n",
       "      <td>2013-01-01</td>\n",
       "      <td>2</td>\n",
       "      <td>0.0</td>\n",
       "      <td>8</td>\n",
       "    </tr>\n",
       "    <tr>\n",
       "      <th>169</th>\n",
       "      <td>373</td>\n",
       "      <td>2013-01-01</td>\n",
       "      <td>2</td>\n",
       "      <td>0.0</td>\n",
       "      <td>10</td>\n",
       "    </tr>\n",
       "  </tbody>\n",
       "</table>\n",
       "</div>"
      ],
      "text/plain": [
       "     Order_ID        Date  Store_ID  Qty  Product_ID\n",
       "165       366  2013-01-01         2  0.0           3\n",
       "166       368  2013-01-01         2  0.0           5\n",
       "167       370  2013-01-01         2  0.0           7\n",
       "168       371  2013-01-01         2  0.0           8\n",
       "169       373  2013-01-01         2  0.0          10"
      ]
     },
     "execution_count": 20,
     "metadata": {},
     "output_type": "execute_result"
    }
   ],
   "source": [
    "sales2.head()"
   ]
  },
  {
   "cell_type": "code",
   "execution_count": 22,
   "metadata": {
    "id": "Ogxjfp_s_NKU"
   },
   "outputs": [
    {
     "data": {
      "text/html": [
       "<div>\n",
       "<style scoped>\n",
       "    .dataframe tbody tr th:only-of-type {\n",
       "        vertical-align: middle;\n",
       "    }\n",
       "\n",
       "    .dataframe tbody tr th {\n",
       "        vertical-align: top;\n",
       "    }\n",
       "\n",
       "    .dataframe thead th {\n",
       "        text-align: right;\n",
       "    }\n",
       "</style>\n",
       "<table border=\"1\" class=\"dataframe\">\n",
       "  <thead>\n",
       "    <tr style=\"text-align: right;\">\n",
       "      <th></th>\n",
       "      <th>Order_ID</th>\n",
       "      <th>Date</th>\n",
       "      <th>Store_ID</th>\n",
       "      <th>Qty</th>\n",
       "      <th>Product_ID</th>\n",
       "    </tr>\n",
       "  </thead>\n",
       "  <tbody>\n",
       "    <tr>\n",
       "      <th>0</th>\n",
       "      <td>3</td>\n",
       "      <td>2013-01-01</td>\n",
       "      <td>1</td>\n",
       "      <td>0.000</td>\n",
       "      <td>3</td>\n",
       "    </tr>\n",
       "    <tr>\n",
       "      <th>1</th>\n",
       "      <td>5</td>\n",
       "      <td>2013-01-01</td>\n",
       "      <td>1</td>\n",
       "      <td>0.000</td>\n",
       "      <td>5</td>\n",
       "    </tr>\n",
       "    <tr>\n",
       "      <th>2</th>\n",
       "      <td>7</td>\n",
       "      <td>2013-01-01</td>\n",
       "      <td>1</td>\n",
       "      <td>0.000</td>\n",
       "      <td>7</td>\n",
       "    </tr>\n",
       "    <tr>\n",
       "      <th>3</th>\n",
       "      <td>8</td>\n",
       "      <td>2013-01-01</td>\n",
       "      <td>1</td>\n",
       "      <td>0.000</td>\n",
       "      <td>8</td>\n",
       "    </tr>\n",
       "    <tr>\n",
       "      <th>4</th>\n",
       "      <td>10</td>\n",
       "      <td>2013-01-01</td>\n",
       "      <td>1</td>\n",
       "      <td>0.000</td>\n",
       "      <td>10</td>\n",
       "    </tr>\n",
       "    <tr>\n",
       "      <th>...</th>\n",
       "      <td>...</td>\n",
       "      <td>...</td>\n",
       "      <td>...</td>\n",
       "      <td>...</td>\n",
       "      <td>...</td>\n",
       "    </tr>\n",
       "    <tr>\n",
       "      <th>24340</th>\n",
       "      <td>53548</td>\n",
       "      <td>2013-01-31</td>\n",
       "      <td>11</td>\n",
       "      <td>10.000</td>\n",
       "      <td>22</td>\n",
       "    </tr>\n",
       "    <tr>\n",
       "      <th>24341</th>\n",
       "      <td>53550</td>\n",
       "      <td>2013-01-31</td>\n",
       "      <td>11</td>\n",
       "      <td>641.507</td>\n",
       "      <td>24</td>\n",
       "    </tr>\n",
       "    <tr>\n",
       "      <th>24342</th>\n",
       "      <td>53553</td>\n",
       "      <td>2013-01-31</td>\n",
       "      <td>11</td>\n",
       "      <td>0.000</td>\n",
       "      <td>27</td>\n",
       "    </tr>\n",
       "    <tr>\n",
       "      <th>24343</th>\n",
       "      <td>53555</td>\n",
       "      <td>2013-01-31</td>\n",
       "      <td>11</td>\n",
       "      <td>27.000</td>\n",
       "      <td>29</td>\n",
       "    </tr>\n",
       "    <tr>\n",
       "      <th>24344</th>\n",
       "      <td>53558</td>\n",
       "      <td>2013-01-31</td>\n",
       "      <td>11</td>\n",
       "      <td>13.000</td>\n",
       "      <td>32</td>\n",
       "    </tr>\n",
       "  </tbody>\n",
       "</table>\n",
       "<p>1860 rows × 5 columns</p>\n",
       "</div>"
      ],
      "text/plain": [
       "       Order_ID        Date  Store_ID      Qty  Product_ID\n",
       "0             3  2013-01-01         1    0.000           3\n",
       "1             5  2013-01-01         1    0.000           5\n",
       "2             7  2013-01-01         1    0.000           7\n",
       "3             8  2013-01-01         1    0.000           8\n",
       "4            10  2013-01-01         1    0.000          10\n",
       "...         ...         ...       ...      ...         ...\n",
       "24340     53548  2013-01-31        11   10.000          22\n",
       "24341     53550  2013-01-31        11  641.507          24\n",
       "24342     53553  2013-01-31        11    0.000          27\n",
       "24343     53555  2013-01-31        11   27.000          29\n",
       "24344     53558  2013-01-31        11   13.000          32\n",
       "\n",
       "[1860 rows x 5 columns]"
      ]
     },
     "execution_count": 22,
     "metadata": {},
     "output_type": "execute_result"
    }
   ],
   "source": [
    "sales0 = pd.concat([sales1,sales2,sales5,sales11] ,join = 'inner' ,axis= 0  )\n",
    "sales0\n",
    "# 열, 구조가 같으면 outer, inner 같다."
   ]
  },
  {
   "cell_type": "markdown",
   "metadata": {
    "id": "LmDxMpPyWU0u"
   },
   "source": [
    "[문2] (조금 어려운 문제!)  \n",
    "일별, 매장별 판매량 합계를 구해 봅시다.  \n",
    "groupby, pd.concat 을 이용하여 다음과 같은 결과를 얻도록 코드를 작성해봅시다.\n",
    "\n",
    "* 힌트\n",
    "    * 1) sales1, 2, 5,11 로 부터 각각 일별 판매량 합계 집계하기\n",
    "        * 집계시 .agg() 를 이용하여 열이름 변경하거나, 집계후 열이름 변경하기\n",
    "    * 2) pd.concat 으로 가로로 합치기\n",
    "\n"
   ]
  },
  {
   "cell_type": "code",
   "execution_count": null,
   "metadata": {
    "id": "b6PCePHYWU0v"
   },
   "outputs": [],
   "source": []
  },
  {
   "cell_type": "code",
   "execution_count": null,
   "metadata": {
    "id": "7ztfAQDYX8jh"
   },
   "outputs": [],
   "source": []
  },
  {
   "cell_type": "markdown",
   "metadata": {
    "id": "CJSLj5laWOaP"
   },
   "source": [
    "## 3.결합 ① : 조인 join(merge)"
   ]
  },
  {
   "cell_type": "markdown",
   "metadata": {
    "id": "PzK83V1nWOaQ"
   },
   "source": [
    "* 판다스에서 join은 굉장히 간단합니다.\n",
    "* 자동으로 key를 잡아줍니다\n",
    "* default로 inner join을 합니다."
   ]
  },
  {
   "cell_type": "code",
   "execution_count": 23,
   "metadata": {
    "id": "nYGB163qWOaR"
   },
   "outputs": [
    {
     "data": {
      "text/html": [
       "<div>\n",
       "<style scoped>\n",
       "    .dataframe tbody tr th:only-of-type {\n",
       "        vertical-align: middle;\n",
       "    }\n",
       "\n",
       "    .dataframe tbody tr th {\n",
       "        vertical-align: top;\n",
       "    }\n",
       "\n",
       "    .dataframe thead th {\n",
       "        text-align: right;\n",
       "    }\n",
       "</style>\n",
       "<table border=\"1\" class=\"dataframe\">\n",
       "  <thead>\n",
       "    <tr style=\"text-align: right;\">\n",
       "      <th></th>\n",
       "      <th>A</th>\n",
       "      <th>B</th>\n",
       "      <th>C</th>\n",
       "    </tr>\n",
       "  </thead>\n",
       "  <tbody>\n",
       "    <tr>\n",
       "      <th>0</th>\n",
       "      <td>1</td>\n",
       "      <td>15</td>\n",
       "      <td>20</td>\n",
       "    </tr>\n",
       "    <tr>\n",
       "      <th>1</th>\n",
       "      <td>2</td>\n",
       "      <td>30</td>\n",
       "      <td>25</td>\n",
       "    </tr>\n",
       "  </tbody>\n",
       "</table>\n",
       "</div>"
      ],
      "text/plain": [
       "   A   B   C\n",
       "0  1  15  20\n",
       "1  2  30  25"
      ]
     },
     "metadata": {},
     "output_type": "display_data"
    },
    {
     "data": {
      "text/html": [
       "<div>\n",
       "<style scoped>\n",
       "    .dataframe tbody tr th:only-of-type {\n",
       "        vertical-align: middle;\n",
       "    }\n",
       "\n",
       "    .dataframe tbody tr th {\n",
       "        vertical-align: top;\n",
       "    }\n",
       "\n",
       "    .dataframe thead th {\n",
       "        text-align: right;\n",
       "    }\n",
       "</style>\n",
       "<table border=\"1\" class=\"dataframe\">\n",
       "  <thead>\n",
       "    <tr style=\"text-align: right;\">\n",
       "      <th></th>\n",
       "      <th>A</th>\n",
       "      <th>D</th>\n",
       "    </tr>\n",
       "  </thead>\n",
       "  <tbody>\n",
       "    <tr>\n",
       "      <th>0</th>\n",
       "      <td>2</td>\n",
       "      <td>20</td>\n",
       "    </tr>\n",
       "    <tr>\n",
       "      <th>1</th>\n",
       "      <td>3</td>\n",
       "      <td>35</td>\n",
       "    </tr>\n",
       "  </tbody>\n",
       "</table>\n",
       "</div>"
      ],
      "text/plain": [
       "   A   D\n",
       "0  2  20\n",
       "1  3  35"
      ]
     },
     "metadata": {},
     "output_type": "display_data"
    }
   ],
   "source": [
    "df1 = pd.DataFrame({'A':[1,2], 'B':[15,30], 'C':[20, 25]})\n",
    "df2 = pd.DataFrame({'A':[2,3], 'D':[20, 35]})\n",
    "\n",
    "display(df1)\n",
    "display(df2)"
   ]
  },
  {
   "cell_type": "markdown",
   "metadata": {
    "id": "r2y6GrZBbAk4"
   },
   "source": [
    "### (1) inner merge"
   ]
  },
  {
   "cell_type": "code",
   "execution_count": 24,
   "metadata": {
    "id": "Nr4WbyzAa8iX"
   },
   "outputs": [
    {
     "data": {
      "text/html": [
       "<div>\n",
       "<style scoped>\n",
       "    .dataframe tbody tr th:only-of-type {\n",
       "        vertical-align: middle;\n",
       "    }\n",
       "\n",
       "    .dataframe tbody tr th {\n",
       "        vertical-align: top;\n",
       "    }\n",
       "\n",
       "    .dataframe thead th {\n",
       "        text-align: right;\n",
       "    }\n",
       "</style>\n",
       "<table border=\"1\" class=\"dataframe\">\n",
       "  <thead>\n",
       "    <tr style=\"text-align: right;\">\n",
       "      <th></th>\n",
       "      <th>A</th>\n",
       "      <th>B</th>\n",
       "      <th>C</th>\n",
       "      <th>D</th>\n",
       "    </tr>\n",
       "  </thead>\n",
       "  <tbody>\n",
       "    <tr>\n",
       "      <th>0</th>\n",
       "      <td>2</td>\n",
       "      <td>30</td>\n",
       "      <td>25</td>\n",
       "      <td>20</td>\n",
       "    </tr>\n",
       "  </tbody>\n",
       "</table>\n",
       "</div>"
      ],
      "text/plain": [
       "   A   B   C   D\n",
       "0  2  30  25  20"
      ]
     },
     "execution_count": 24,
     "metadata": {},
     "output_type": "execute_result"
    }
   ],
   "source": [
    "pd.merge(df1, df2, how = 'inner', on = 'A')"
   ]
  },
  {
   "cell_type": "code",
   "execution_count": 25,
   "metadata": {
    "id": "YLh3kqTscb5P"
   },
   "outputs": [
    {
     "data": {
      "text/html": [
       "<div>\n",
       "<style scoped>\n",
       "    .dataframe tbody tr th:only-of-type {\n",
       "        vertical-align: middle;\n",
       "    }\n",
       "\n",
       "    .dataframe tbody tr th {\n",
       "        vertical-align: top;\n",
       "    }\n",
       "\n",
       "    .dataframe thead th {\n",
       "        text-align: right;\n",
       "    }\n",
       "</style>\n",
       "<table border=\"1\" class=\"dataframe\">\n",
       "  <thead>\n",
       "    <tr style=\"text-align: right;\">\n",
       "      <th></th>\n",
       "      <th>A</th>\n",
       "      <th>B</th>\n",
       "      <th>C</th>\n",
       "      <th>D</th>\n",
       "    </tr>\n",
       "  </thead>\n",
       "  <tbody>\n",
       "    <tr>\n",
       "      <th>0</th>\n",
       "      <td>2</td>\n",
       "      <td>30</td>\n",
       "      <td>25</td>\n",
       "      <td>20</td>\n",
       "    </tr>\n",
       "  </tbody>\n",
       "</table>\n",
       "</div>"
      ],
      "text/plain": [
       "   A   B   C   D\n",
       "0  2  30  25  20"
      ]
     },
     "execution_count": 25,
     "metadata": {},
     "output_type": "execute_result"
    }
   ],
   "source": [
    "pd.merge(df1, df2, how = 'inner')"
   ]
  },
  {
   "cell_type": "code",
   "execution_count": 26,
   "metadata": {},
   "outputs": [
    {
     "data": {
      "text/html": [
       "<div>\n",
       "<style scoped>\n",
       "    .dataframe tbody tr th:only-of-type {\n",
       "        vertical-align: middle;\n",
       "    }\n",
       "\n",
       "    .dataframe tbody tr th {\n",
       "        vertical-align: top;\n",
       "    }\n",
       "\n",
       "    .dataframe thead th {\n",
       "        text-align: right;\n",
       "    }\n",
       "</style>\n",
       "<table border=\"1\" class=\"dataframe\">\n",
       "  <thead>\n",
       "    <tr style=\"text-align: right;\">\n",
       "      <th></th>\n",
       "      <th>A</th>\n",
       "      <th>B</th>\n",
       "      <th>C</th>\n",
       "      <th>D</th>\n",
       "    </tr>\n",
       "  </thead>\n",
       "  <tbody>\n",
       "    <tr>\n",
       "      <th>0</th>\n",
       "      <td>2</td>\n",
       "      <td>30</td>\n",
       "      <td>25</td>\n",
       "      <td>20</td>\n",
       "    </tr>\n",
       "  </tbody>\n",
       "</table>\n",
       "</div>"
      ],
      "text/plain": [
       "   A   B   C   D\n",
       "0  2  30  25  20"
      ]
     },
     "execution_count": 26,
     "metadata": {},
     "output_type": "execute_result"
    }
   ],
   "source": [
    "pd.merge(df1,df2)"
   ]
  },
  {
   "cell_type": "markdown",
   "metadata": {
    "id": "N0280Qt5cZNX"
   },
   "source": [
    "### (2) left merge!!!!!!!!!!!!!!!! 실전에서 많이 쓰인다 !!!!!!!!!!!!!!!!!\n",
    "concat은 out이 기본값.. merge는 inner 가 기본값"
   ]
  },
  {
   "cell_type": "code",
   "execution_count": 29,
   "metadata": {},
   "outputs": [
    {
     "data": {
      "text/html": [
       "<div>\n",
       "<style scoped>\n",
       "    .dataframe tbody tr th:only-of-type {\n",
       "        vertical-align: middle;\n",
       "    }\n",
       "\n",
       "    .dataframe tbody tr th {\n",
       "        vertical-align: top;\n",
       "    }\n",
       "\n",
       "    .dataframe thead th {\n",
       "        text-align: right;\n",
       "    }\n",
       "</style>\n",
       "<table border=\"1\" class=\"dataframe\">\n",
       "  <thead>\n",
       "    <tr style=\"text-align: right;\">\n",
       "      <th></th>\n",
       "      <th>A</th>\n",
       "      <th>B</th>\n",
       "      <th>C</th>\n",
       "    </tr>\n",
       "  </thead>\n",
       "  <tbody>\n",
       "    <tr>\n",
       "      <th>0</th>\n",
       "      <td>1</td>\n",
       "      <td>15</td>\n",
       "      <td>20</td>\n",
       "    </tr>\n",
       "    <tr>\n",
       "      <th>1</th>\n",
       "      <td>2</td>\n",
       "      <td>30</td>\n",
       "      <td>25</td>\n",
       "    </tr>\n",
       "  </tbody>\n",
       "</table>\n",
       "</div>"
      ],
      "text/plain": [
       "   A   B   C\n",
       "0  1  15  20\n",
       "1  2  30  25"
      ]
     },
     "metadata": {},
     "output_type": "display_data"
    },
    {
     "data": {
      "text/html": [
       "<div>\n",
       "<style scoped>\n",
       "    .dataframe tbody tr th:only-of-type {\n",
       "        vertical-align: middle;\n",
       "    }\n",
       "\n",
       "    .dataframe tbody tr th {\n",
       "        vertical-align: top;\n",
       "    }\n",
       "\n",
       "    .dataframe thead th {\n",
       "        text-align: right;\n",
       "    }\n",
       "</style>\n",
       "<table border=\"1\" class=\"dataframe\">\n",
       "  <thead>\n",
       "    <tr style=\"text-align: right;\">\n",
       "      <th></th>\n",
       "      <th>A</th>\n",
       "      <th>D</th>\n",
       "    </tr>\n",
       "  </thead>\n",
       "  <tbody>\n",
       "    <tr>\n",
       "      <th>0</th>\n",
       "      <td>2</td>\n",
       "      <td>20</td>\n",
       "    </tr>\n",
       "    <tr>\n",
       "      <th>1</th>\n",
       "      <td>3</td>\n",
       "      <td>35</td>\n",
       "    </tr>\n",
       "  </tbody>\n",
       "</table>\n",
       "</div>"
      ],
      "text/plain": [
       "   A   D\n",
       "0  2  20\n",
       "1  3  35"
      ]
     },
     "metadata": {},
     "output_type": "display_data"
    }
   ],
   "source": [
    "display(df1)\n",
    "display(df2)"
   ]
  },
  {
   "cell_type": "code",
   "execution_count": 27,
   "metadata": {
    "id": "SITN2TeKWOaR"
   },
   "outputs": [
    {
     "data": {
      "text/html": [
       "<div>\n",
       "<style scoped>\n",
       "    .dataframe tbody tr th:only-of-type {\n",
       "        vertical-align: middle;\n",
       "    }\n",
       "\n",
       "    .dataframe tbody tr th {\n",
       "        vertical-align: top;\n",
       "    }\n",
       "\n",
       "    .dataframe thead th {\n",
       "        text-align: right;\n",
       "    }\n",
       "</style>\n",
       "<table border=\"1\" class=\"dataframe\">\n",
       "  <thead>\n",
       "    <tr style=\"text-align: right;\">\n",
       "      <th></th>\n",
       "      <th>A</th>\n",
       "      <th>B</th>\n",
       "      <th>C</th>\n",
       "      <th>D</th>\n",
       "    </tr>\n",
       "  </thead>\n",
       "  <tbody>\n",
       "    <tr>\n",
       "      <th>0</th>\n",
       "      <td>1</td>\n",
       "      <td>15</td>\n",
       "      <td>20</td>\n",
       "      <td>NaN</td>\n",
       "    </tr>\n",
       "    <tr>\n",
       "      <th>1</th>\n",
       "      <td>2</td>\n",
       "      <td>30</td>\n",
       "      <td>25</td>\n",
       "      <td>20.0</td>\n",
       "    </tr>\n",
       "  </tbody>\n",
       "</table>\n",
       "</div>"
      ],
      "text/plain": [
       "   A   B   C     D\n",
       "0  1  15  20   NaN\n",
       "1  2  30  25  20.0"
      ]
     },
     "execution_count": 27,
     "metadata": {},
     "output_type": "execute_result"
    }
   ],
   "source": [
    "pd.merge(df1, df2, how = 'left')"
   ]
  },
  {
   "cell_type": "markdown",
   "metadata": {
    "id": "5zfg_W7WckSZ"
   },
   "source": [
    "### (3) right merge!!!!!!!!!!!!"
   ]
  },
  {
   "cell_type": "code",
   "execution_count": 28,
   "metadata": {
    "id": "vBFJvYfzckSZ"
   },
   "outputs": [
    {
     "data": {
      "text/html": [
       "<div>\n",
       "<style scoped>\n",
       "    .dataframe tbody tr th:only-of-type {\n",
       "        vertical-align: middle;\n",
       "    }\n",
       "\n",
       "    .dataframe tbody tr th {\n",
       "        vertical-align: top;\n",
       "    }\n",
       "\n",
       "    .dataframe thead th {\n",
       "        text-align: right;\n",
       "    }\n",
       "</style>\n",
       "<table border=\"1\" class=\"dataframe\">\n",
       "  <thead>\n",
       "    <tr style=\"text-align: right;\">\n",
       "      <th></th>\n",
       "      <th>A</th>\n",
       "      <th>B</th>\n",
       "      <th>C</th>\n",
       "      <th>D</th>\n",
       "    </tr>\n",
       "  </thead>\n",
       "  <tbody>\n",
       "    <tr>\n",
       "      <th>0</th>\n",
       "      <td>2</td>\n",
       "      <td>30.0</td>\n",
       "      <td>25.0</td>\n",
       "      <td>20</td>\n",
       "    </tr>\n",
       "    <tr>\n",
       "      <th>1</th>\n",
       "      <td>3</td>\n",
       "      <td>NaN</td>\n",
       "      <td>NaN</td>\n",
       "      <td>35</td>\n",
       "    </tr>\n",
       "  </tbody>\n",
       "</table>\n",
       "</div>"
      ],
      "text/plain": [
       "   A     B     C   D\n",
       "0  2  30.0  25.0  20\n",
       "1  3   NaN   NaN  35"
      ]
     },
     "execution_count": 28,
     "metadata": {},
     "output_type": "execute_result"
    }
   ],
   "source": [
    "pd.merge(df1, df2, how = 'right')"
   ]
  },
  {
   "cell_type": "markdown",
   "metadata": {
    "id": "IPN07KKOcsnI"
   },
   "source": [
    "<img src='https://raw.githubusercontent.com/jangrae/img/master/practice_01.png' width=120 align=\"left\"/>"
   ]
  },
  {
   "cell_type": "markdown",
   "metadata": {
    "id": "trjHhUlLcsnJ"
   },
   "source": [
    "[문1] 일별, 매장별 판매량 합계를 구해 봅시다.  \n",
    "groupby, pd.merge 을 이용하여 다음과 같은 결과를 얻도록 코드를 작성해봅시다.\n",
    "\n",
    "* 힌트\n",
    "    * 1) sales1, 2, 5,11 로 부터 각각 일별 판매량 합계 집계하기\n",
    "        * 집계시 .agg() 를 이용하여 열이름 변경하거나, 집계후 열이름 변경하기\n",
    "    * 2) pd.merge 으로 결합하기\n",
    "\n"
   ]
  },
  {
   "cell_type": "code",
   "execution_count": null,
   "metadata": {
    "id": "ki3Ho9pfc5Ac"
   },
   "outputs": [],
   "source": []
  },
  {
   "cell_type": "code",
   "execution_count": null,
   "metadata": {
    "id": "q0-0wJx8c5Ad"
   },
   "outputs": [],
   "source": []
  },
  {
   "cell_type": "markdown",
   "metadata": {
    "id": "9gjOPMzbdU9r"
   },
   "source": [
    "[문2] 매장1에 대해서, 일별, 카테고리별 판매량 합계를 구해 봅시다. \n",
    "\n"
   ]
  },
  {
   "cell_type": "code",
   "execution_count": null,
   "metadata": {
    "id": "VuaUu_MG1SBz"
   },
   "outputs": [],
   "source": []
  },
  {
   "cell_type": "code",
   "execution_count": null,
   "metadata": {
    "id": "b5_VeIDp1R-j"
   },
   "outputs": [],
   "source": []
  },
  {
   "cell_type": "markdown",
   "metadata": {
    "id": "WeVz3VipfHUW"
   },
   "source": [
    "[문3] 도시별, 총판매량 합계를 구하시오.  \n",
    "\n"
   ]
  },
  {
   "cell_type": "code",
   "execution_count": null,
   "metadata": {
    "id": "CgU-m-pq1Twj"
   },
   "outputs": [],
   "source": []
  },
  {
   "cell_type": "code",
   "execution_count": null,
   "metadata": {
    "id": "kp0KL-ou1Ts5"
   },
   "outputs": [],
   "source": []
  },
  {
   "cell_type": "markdown",
   "metadata": {
    "id": "tsKvijVvHfPm"
   },
   "source": [
    "### (4) pivot\n",
    "* pivot : 결합은 아니지만, 집계 후 데이터프레임 구조를 변형해서 조회하는데 종종 사용 됩니다.\n",
    "\n",
    "* 단계\n",
    "    * 1) groupby\n",
    "    * 2) pivot"
   ]
  },
  {
   "cell_type": "code",
   "execution_count": 71,
   "metadata": {
    "id": "VemeQV1vHkTD"
   },
   "outputs": [
    {
     "data": {
      "text/html": [
       "<div>\n",
       "<style scoped>\n",
       "    .dataframe tbody tr th:only-of-type {\n",
       "        vertical-align: middle;\n",
       "    }\n",
       "\n",
       "    .dataframe tbody tr th {\n",
       "        vertical-align: top;\n",
       "    }\n",
       "\n",
       "    .dataframe thead th {\n",
       "        text-align: right;\n",
       "    }\n",
       "</style>\n",
       "<table border=\"1\" class=\"dataframe\">\n",
       "  <thead>\n",
       "    <tr style=\"text-align: right;\">\n",
       "      <th></th>\n",
       "      <th>Date</th>\n",
       "      <th>Category</th>\n",
       "      <th>Qty</th>\n",
       "    </tr>\n",
       "  </thead>\n",
       "  <tbody>\n",
       "    <tr>\n",
       "      <th>0</th>\n",
       "      <td>2013-01-01</td>\n",
       "      <td>Drink</td>\n",
       "      <td>0.000</td>\n",
       "    </tr>\n",
       "    <tr>\n",
       "      <th>1</th>\n",
       "      <td>2013-01-01</td>\n",
       "      <td>Food</td>\n",
       "      <td>0.000</td>\n",
       "    </tr>\n",
       "    <tr>\n",
       "      <th>2</th>\n",
       "      <td>2013-01-01</td>\n",
       "      <td>Grocery</td>\n",
       "      <td>0.000</td>\n",
       "    </tr>\n",
       "    <tr>\n",
       "      <th>3</th>\n",
       "      <td>2013-01-01</td>\n",
       "      <td>Household Goods</td>\n",
       "      <td>0.000</td>\n",
       "    </tr>\n",
       "    <tr>\n",
       "      <th>4</th>\n",
       "      <td>2013-01-02</td>\n",
       "      <td>Drink</td>\n",
       "      <td>1158.000</td>\n",
       "    </tr>\n",
       "    <tr>\n",
       "      <th>...</th>\n",
       "      <td>...</td>\n",
       "      <td>...</td>\n",
       "      <td>...</td>\n",
       "    </tr>\n",
       "    <tr>\n",
       "      <th>119</th>\n",
       "      <td>2013-01-30</td>\n",
       "      <td>Household Goods</td>\n",
       "      <td>932.000</td>\n",
       "    </tr>\n",
       "    <tr>\n",
       "      <th>120</th>\n",
       "      <td>2013-01-31</td>\n",
       "      <td>Drink</td>\n",
       "      <td>971.000</td>\n",
       "    </tr>\n",
       "    <tr>\n",
       "      <th>121</th>\n",
       "      <td>2013-01-31</td>\n",
       "      <td>Food</td>\n",
       "      <td>751.766</td>\n",
       "    </tr>\n",
       "    <tr>\n",
       "      <th>122</th>\n",
       "      <td>2013-01-31</td>\n",
       "      <td>Grocery</td>\n",
       "      <td>1907.797</td>\n",
       "    </tr>\n",
       "    <tr>\n",
       "      <th>123</th>\n",
       "      <td>2013-01-31</td>\n",
       "      <td>Household Goods</td>\n",
       "      <td>711.000</td>\n",
       "    </tr>\n",
       "  </tbody>\n",
       "</table>\n",
       "<p>124 rows × 3 columns</p>\n",
       "</div>"
      ],
      "text/plain": [
       "           Date         Category       Qty\n",
       "0    2013-01-01            Drink     0.000\n",
       "1    2013-01-01             Food     0.000\n",
       "2    2013-01-01          Grocery     0.000\n",
       "3    2013-01-01  Household Goods     0.000\n",
       "4    2013-01-02            Drink  1158.000\n",
       "..          ...              ...       ...\n",
       "119  2013-01-30  Household Goods   932.000\n",
       "120  2013-01-31            Drink   971.000\n",
       "121  2013-01-31             Food   751.766\n",
       "122  2013-01-31          Grocery  1907.797\n",
       "123  2013-01-31  Household Goods   711.000\n",
       "\n",
       "[124 rows x 3 columns]"
      ]
     },
     "execution_count": 71,
     "metadata": {},
     "output_type": "execute_result"
    }
   ],
   "source": [
    "# 1) 매장1의 일별 카테고리별 판매량을 집계\n",
    "\n",
    "temp = pd.merge(sales1, products)\n",
    "temp2 = temp.groupby(['Date', 'Category'], as_index = False)['Qty'].sum()\n",
    "temp2"
   ]
  },
  {
   "cell_type": "code",
   "execution_count": 72,
   "metadata": {
    "id": "mZz5WczWJ-_9"
   },
   "outputs": [
    {
     "data": {
      "text/html": [
       "<div>\n",
       "<style scoped>\n",
       "    .dataframe tbody tr th:only-of-type {\n",
       "        vertical-align: middle;\n",
       "    }\n",
       "\n",
       "    .dataframe tbody tr th {\n",
       "        vertical-align: top;\n",
       "    }\n",
       "\n",
       "    .dataframe thead th {\n",
       "        text-align: right;\n",
       "    }\n",
       "</style>\n",
       "<table border=\"1\" class=\"dataframe\">\n",
       "  <thead>\n",
       "    <tr style=\"text-align: right;\">\n",
       "      <th>Date</th>\n",
       "      <th>2013-01-01</th>\n",
       "      <th>2013-01-02</th>\n",
       "      <th>2013-01-03</th>\n",
       "      <th>2013-01-04</th>\n",
       "      <th>2013-01-05</th>\n",
       "      <th>2013-01-06</th>\n",
       "      <th>2013-01-07</th>\n",
       "      <th>2013-01-08</th>\n",
       "      <th>2013-01-09</th>\n",
       "      <th>2013-01-10</th>\n",
       "      <th>...</th>\n",
       "      <th>2013-01-22</th>\n",
       "      <th>2013-01-23</th>\n",
       "      <th>2013-01-24</th>\n",
       "      <th>2013-01-25</th>\n",
       "      <th>2013-01-26</th>\n",
       "      <th>2013-01-27</th>\n",
       "      <th>2013-01-28</th>\n",
       "      <th>2013-01-29</th>\n",
       "      <th>2013-01-30</th>\n",
       "      <th>2013-01-31</th>\n",
       "    </tr>\n",
       "    <tr>\n",
       "      <th>Category</th>\n",
       "      <th></th>\n",
       "      <th></th>\n",
       "      <th></th>\n",
       "      <th></th>\n",
       "      <th></th>\n",
       "      <th></th>\n",
       "      <th></th>\n",
       "      <th></th>\n",
       "      <th></th>\n",
       "      <th></th>\n",
       "      <th></th>\n",
       "      <th></th>\n",
       "      <th></th>\n",
       "      <th></th>\n",
       "      <th></th>\n",
       "      <th></th>\n",
       "      <th></th>\n",
       "      <th></th>\n",
       "      <th></th>\n",
       "      <th></th>\n",
       "      <th></th>\n",
       "    </tr>\n",
       "  </thead>\n",
       "  <tbody>\n",
       "    <tr>\n",
       "      <th>Drink</th>\n",
       "      <td>0.0</td>\n",
       "      <td>1158.000</td>\n",
       "      <td>985.000000</td>\n",
       "      <td>1055.000000</td>\n",
       "      <td>1319.000</td>\n",
       "      <td>407.000</td>\n",
       "      <td>1267.000</td>\n",
       "      <td>1115.000</td>\n",
       "      <td>1290.00000</td>\n",
       "      <td>914.000</td>\n",
       "      <td>...</td>\n",
       "      <td>1114.000</td>\n",
       "      <td>1152.000</td>\n",
       "      <td>924.000</td>\n",
       "      <td>1213.000</td>\n",
       "      <td>1132.000</td>\n",
       "      <td>417.000</td>\n",
       "      <td>830.000</td>\n",
       "      <td>999.000</td>\n",
       "      <td>1140.000</td>\n",
       "      <td>971.000</td>\n",
       "    </tr>\n",
       "    <tr>\n",
       "      <th>Food</th>\n",
       "      <td>0.0</td>\n",
       "      <td>1227.652</td>\n",
       "      <td>913.699000</td>\n",
       "      <td>790.366000</td>\n",
       "      <td>901.057</td>\n",
       "      <td>416.912</td>\n",
       "      <td>852.676</td>\n",
       "      <td>829.851</td>\n",
       "      <td>967.58200</td>\n",
       "      <td>775.515</td>\n",
       "      <td>...</td>\n",
       "      <td>780.201</td>\n",
       "      <td>1025.047</td>\n",
       "      <td>791.388</td>\n",
       "      <td>836.856</td>\n",
       "      <td>880.019</td>\n",
       "      <td>416.783</td>\n",
       "      <td>821.064</td>\n",
       "      <td>668.154</td>\n",
       "      <td>900.092</td>\n",
       "      <td>751.766</td>\n",
       "    </tr>\n",
       "    <tr>\n",
       "      <th>Grocery</th>\n",
       "      <td>0.0</td>\n",
       "      <td>3305.130</td>\n",
       "      <td>2613.685001</td>\n",
       "      <td>2711.079001</td>\n",
       "      <td>2746.782</td>\n",
       "      <td>926.282</td>\n",
       "      <td>2689.720</td>\n",
       "      <td>2356.277</td>\n",
       "      <td>3023.57298</td>\n",
       "      <td>1933.235</td>\n",
       "      <td>...</td>\n",
       "      <td>2242.216</td>\n",
       "      <td>2824.296</td>\n",
       "      <td>2221.805</td>\n",
       "      <td>2393.208</td>\n",
       "      <td>2257.907</td>\n",
       "      <td>1162.207</td>\n",
       "      <td>2208.364</td>\n",
       "      <td>2001.047</td>\n",
       "      <td>2662.485</td>\n",
       "      <td>1907.797</td>\n",
       "    </tr>\n",
       "    <tr>\n",
       "      <th>Household Goods</th>\n",
       "      <td>0.0</td>\n",
       "      <td>1070.000</td>\n",
       "      <td>836.000000</td>\n",
       "      <td>834.000000</td>\n",
       "      <td>821.000</td>\n",
       "      <td>257.000</td>\n",
       "      <td>830.000</td>\n",
       "      <td>830.000</td>\n",
       "      <td>917.00000</td>\n",
       "      <td>687.000</td>\n",
       "      <td>...</td>\n",
       "      <td>786.000</td>\n",
       "      <td>769.000</td>\n",
       "      <td>622.000</td>\n",
       "      <td>701.000</td>\n",
       "      <td>551.000</td>\n",
       "      <td>247.000</td>\n",
       "      <td>625.000</td>\n",
       "      <td>617.000</td>\n",
       "      <td>932.000</td>\n",
       "      <td>711.000</td>\n",
       "    </tr>\n",
       "  </tbody>\n",
       "</table>\n",
       "<p>4 rows × 31 columns</p>\n",
       "</div>"
      ],
      "text/plain": [
       "Date             2013-01-01  2013-01-02   2013-01-03   2013-01-04  2013-01-05  \\\n",
       "Category                                                                        \n",
       "Drink                   0.0    1158.000   985.000000  1055.000000    1319.000   \n",
       "Food                    0.0    1227.652   913.699000   790.366000     901.057   \n",
       "Grocery                 0.0    3305.130  2613.685001  2711.079001    2746.782   \n",
       "Household Goods         0.0    1070.000   836.000000   834.000000     821.000   \n",
       "\n",
       "Date             2013-01-06  2013-01-07  2013-01-08  2013-01-09  2013-01-10  \\\n",
       "Category                                                                      \n",
       "Drink               407.000    1267.000    1115.000  1290.00000     914.000   \n",
       "Food                416.912     852.676     829.851   967.58200     775.515   \n",
       "Grocery             926.282    2689.720    2356.277  3023.57298    1933.235   \n",
       "Household Goods     257.000     830.000     830.000   917.00000     687.000   \n",
       "\n",
       "Date             ...  2013-01-22  2013-01-23  2013-01-24  2013-01-25  \\\n",
       "Category         ...                                                   \n",
       "Drink            ...    1114.000    1152.000     924.000    1213.000   \n",
       "Food             ...     780.201    1025.047     791.388     836.856   \n",
       "Grocery          ...    2242.216    2824.296    2221.805    2393.208   \n",
       "Household Goods  ...     786.000     769.000     622.000     701.000   \n",
       "\n",
       "Date             2013-01-26  2013-01-27  2013-01-28  2013-01-29  2013-01-30  \\\n",
       "Category                                                                      \n",
       "Drink              1132.000     417.000     830.000     999.000    1140.000   \n",
       "Food                880.019     416.783     821.064     668.154     900.092   \n",
       "Grocery            2257.907    1162.207    2208.364    2001.047    2662.485   \n",
       "Household Goods     551.000     247.000     625.000     617.000     932.000   \n",
       "\n",
       "Date             2013-01-31  \n",
       "Category                     \n",
       "Drink               971.000  \n",
       "Food                751.766  \n",
       "Grocery            1907.797  \n",
       "Household Goods     711.000  \n",
       "\n",
       "[4 rows x 31 columns]"
      ]
     },
     "execution_count": 72,
     "metadata": {},
     "output_type": "execute_result"
    }
   ],
   "source": [
    "# 2) pivot\n",
    "temp3 = temp2.pivot( 'Category', 'Date' ,'Qty')\n",
    "temp3"
   ]
  },
  {
   "cell_type": "code",
   "execution_count": 73,
   "metadata": {
    "id": "3PqzBBHLKQoj"
   },
   "outputs": [
    {
     "data": {
      "image/png": "[encoded data removed]",
      "text/plain": [
       "<Figure size 2000x600 with 2 Axes>"
      ]
     },
     "metadata": {},
     "output_type": "display_data"
    }
   ],
   "source": [
    "# sns.heatmap으로 시각화 할 수도 있습니다!\n",
    "\n",
    "plt.figure(figsize = (20, 6))\n",
    "sns.heatmap(temp3)\n",
    "plt.show()"
   ]
  },
  {
   "cell_type": "markdown",
   "metadata": {
    "id": "NWrTUSzyQdVs"
   },
   "source": [
    "## 4.복습문제"
   ]
  },
  {
   "cell_type": "code",
   "execution_count": 30,
   "metadata": {
    "id": "8hZaRpngVhlS"
   },
   "outputs": [],
   "source": [
    "# 라이브러리 불러오기\n",
    "import pandas as pd"
   ]
  },
  {
   "cell_type": "code",
   "execution_count": 4,
   "metadata": {
    "id": "zFm_DPTaUdqQ"
   },
   "outputs": [],
   "source": [
    "sales = pd.read_csv(\"https://raw.githubusercontent.com/DA4BAM/dataset/master/ts_sales_simple.csv\")\n",
    "products = pd.read_csv(\"https://raw.githubusercontent.com/DA4BAM/dataset/master/ts_product_master.csv\")\n",
    "stores = pd.read_csv(\"https://raw.githubusercontent.com/DA4BAM/dataset/master/ts_store_master.csv\")"
   ]
  },
  {
   "cell_type": "code",
   "execution_count": 32,
   "metadata": {
    "id": "SNr744QR622S"
   },
   "outputs": [
    {
     "data": {
      "text/html": [
       "<div>\n",
       "<style scoped>\n",
       "    .dataframe tbody tr th:only-of-type {\n",
       "        vertical-align: middle;\n",
       "    }\n",
       "\n",
       "    .dataframe tbody tr th {\n",
       "        vertical-align: top;\n",
       "    }\n",
       "\n",
       "    .dataframe thead th {\n",
       "        text-align: right;\n",
       "    }\n",
       "</style>\n",
       "<table border=\"1\" class=\"dataframe\">\n",
       "  <thead>\n",
       "    <tr style=\"text-align: right;\">\n",
       "      <th></th>\n",
       "      <th>Order_ID</th>\n",
       "      <th>Date</th>\n",
       "      <th>Store_ID</th>\n",
       "      <th>Qty</th>\n",
       "      <th>Product_ID</th>\n",
       "    </tr>\n",
       "  </thead>\n",
       "  <tbody>\n",
       "    <tr>\n",
       "      <th>0</th>\n",
       "      <td>3</td>\n",
       "      <td>2013-01-01</td>\n",
       "      <td>1</td>\n",
       "      <td>0.0</td>\n",
       "      <td>3</td>\n",
       "    </tr>\n",
       "    <tr>\n",
       "      <th>1</th>\n",
       "      <td>5</td>\n",
       "      <td>2013-01-01</td>\n",
       "      <td>1</td>\n",
       "      <td>0.0</td>\n",
       "      <td>5</td>\n",
       "    </tr>\n",
       "    <tr>\n",
       "      <th>2</th>\n",
       "      <td>7</td>\n",
       "      <td>2013-01-01</td>\n",
       "      <td>1</td>\n",
       "      <td>0.0</td>\n",
       "      <td>7</td>\n",
       "    </tr>\n",
       "  </tbody>\n",
       "</table>\n",
       "</div>"
      ],
      "text/plain": [
       "   Order_ID        Date  Store_ID  Qty  Product_ID\n",
       "0         3  2013-01-01         1  0.0           3\n",
       "1         5  2013-01-01         1  0.0           5\n",
       "2         7  2013-01-01         1  0.0           7"
      ]
     },
     "execution_count": 32,
     "metadata": {},
     "output_type": "execute_result"
    }
   ],
   "source": [
    "sales.head(3)"
   ]
  },
  {
   "cell_type": "code",
   "execution_count": 33,
   "metadata": {
    "id": "d9cWz4jk64pV"
   },
   "outputs": [
    {
     "data": {
      "text/html": [
       "<div>\n",
       "<style scoped>\n",
       "    .dataframe tbody tr th:only-of-type {\n",
       "        vertical-align: middle;\n",
       "    }\n",
       "\n",
       "    .dataframe tbody tr th {\n",
       "        vertical-align: top;\n",
       "    }\n",
       "\n",
       "    .dataframe thead th {\n",
       "        text-align: right;\n",
       "    }\n",
       "</style>\n",
       "<table border=\"1\" class=\"dataframe\">\n",
       "  <thead>\n",
       "    <tr style=\"text-align: right;\">\n",
       "      <th></th>\n",
       "      <th>Product_ID</th>\n",
       "      <th>Product_Code</th>\n",
       "      <th>SubCategory</th>\n",
       "      <th>Category</th>\n",
       "      <th>LeadTime</th>\n",
       "      <th>Price</th>\n",
       "    </tr>\n",
       "  </thead>\n",
       "  <tbody>\n",
       "    <tr>\n",
       "      <th>0</th>\n",
       "      <td>20</td>\n",
       "      <td>HG001</td>\n",
       "      <td>Gardening Tools</td>\n",
       "      <td>Household Goods</td>\n",
       "      <td>2</td>\n",
       "      <td>50</td>\n",
       "    </tr>\n",
       "    <tr>\n",
       "      <th>1</th>\n",
       "      <td>27</td>\n",
       "      <td>HH001</td>\n",
       "      <td>Home Appliances</td>\n",
       "      <td>Household Goods</td>\n",
       "      <td>2</td>\n",
       "      <td>150</td>\n",
       "    </tr>\n",
       "    <tr>\n",
       "      <th>2</th>\n",
       "      <td>16</td>\n",
       "      <td>HK001</td>\n",
       "      <td>Kitchen</td>\n",
       "      <td>Household Goods</td>\n",
       "      <td>2</td>\n",
       "      <td>23</td>\n",
       "    </tr>\n",
       "  </tbody>\n",
       "</table>\n",
       "</div>"
      ],
      "text/plain": [
       "   Product_ID Product_Code      SubCategory         Category  LeadTime  Price\n",
       "0          20        HG001  Gardening Tools  Household Goods         2     50\n",
       "1          27        HH001  Home Appliances  Household Goods         2    150\n",
       "2          16        HK001          Kitchen  Household Goods         2     23"
      ]
     },
     "execution_count": 33,
     "metadata": {},
     "output_type": "execute_result"
    }
   ],
   "source": [
    "products.head(3)"
   ]
  },
  {
   "cell_type": "code",
   "execution_count": 34,
   "metadata": {
    "id": "MXjymkQX67MA"
   },
   "outputs": [
    {
     "data": {
      "text/html": [
       "<div>\n",
       "<style scoped>\n",
       "    .dataframe tbody tr th:only-of-type {\n",
       "        vertical-align: middle;\n",
       "    }\n",
       "\n",
       "    .dataframe tbody tr th {\n",
       "        vertical-align: top;\n",
       "    }\n",
       "\n",
       "    .dataframe thead th {\n",
       "        text-align: right;\n",
       "    }\n",
       "</style>\n",
       "<table border=\"1\" class=\"dataframe\">\n",
       "  <thead>\n",
       "    <tr style=\"text-align: right;\">\n",
       "      <th></th>\n",
       "      <th>Store_ID</th>\n",
       "      <th>City</th>\n",
       "      <th>State</th>\n",
       "      <th>Store_Type</th>\n",
       "    </tr>\n",
       "  </thead>\n",
       "  <tbody>\n",
       "    <tr>\n",
       "      <th>0</th>\n",
       "      <td>1</td>\n",
       "      <td>Saint Paul</td>\n",
       "      <td>Minnesota</td>\n",
       "      <td>4</td>\n",
       "    </tr>\n",
       "    <tr>\n",
       "      <th>1</th>\n",
       "      <td>2</td>\n",
       "      <td>Saint Paul</td>\n",
       "      <td>Minnesota</td>\n",
       "      <td>4</td>\n",
       "    </tr>\n",
       "    <tr>\n",
       "      <th>2</th>\n",
       "      <td>3</td>\n",
       "      <td>Saint Paul</td>\n",
       "      <td>Minnesota</td>\n",
       "      <td>4</td>\n",
       "    </tr>\n",
       "  </tbody>\n",
       "</table>\n",
       "</div>"
      ],
      "text/plain": [
       "   Store_ID        City      State  Store_Type\n",
       "0         1  Saint Paul  Minnesota           4\n",
       "1         2  Saint Paul  Minnesota           4\n",
       "2         3  Saint Paul  Minnesota           4"
      ]
     },
     "execution_count": 34,
     "metadata": {},
     "output_type": "execute_result"
    }
   ],
   "source": [
    "stores.head(3)"
   ]
  },
  {
   "cell_type": "markdown",
   "metadata": {
    "id": "WAGgvzDv2klV"
   },
   "source": [
    "1) sales에 금액(Amt) 변수를 추가하시오.\n",
    "* Amt = Qty * Price"
   ]
  },
  {
   "cell_type": "code",
   "execution_count": 45,
   "metadata": {},
   "outputs": [],
   "source": [
    "# sales2 = pd.merge( sales, products.loc[:, ['Product_ID','Price']], how = 'inner' , on = 'Product_ID' ) \n",
    "# sales2.head()"
   ]
  },
  {
   "cell_type": "code",
   "execution_count": 62,
   "metadata": {
    "id": "vJwQEeOt2fSD"
   },
   "outputs": [
    {
     "data": {
      "text/html": [
       "<div>\n",
       "<style scoped>\n",
       "    .dataframe tbody tr th:only-of-type {\n",
       "        vertical-align: middle;\n",
       "    }\n",
       "\n",
       "    .dataframe tbody tr th {\n",
       "        vertical-align: top;\n",
       "    }\n",
       "\n",
       "    .dataframe thead th {\n",
       "        text-align: right;\n",
       "    }\n",
       "</style>\n",
       "<table border=\"1\" class=\"dataframe\">\n",
       "  <thead>\n",
       "    <tr style=\"text-align: right;\">\n",
       "      <th></th>\n",
       "      <th>Order_ID</th>\n",
       "      <th>Date</th>\n",
       "      <th>Store_ID</th>\n",
       "      <th>Qty</th>\n",
       "      <th>Product_ID</th>\n",
       "      <th>Product_Code</th>\n",
       "      <th>SubCategory</th>\n",
       "      <th>Category</th>\n",
       "      <th>LeadTime</th>\n",
       "      <th>Price</th>\n",
       "    </tr>\n",
       "  </thead>\n",
       "  <tbody>\n",
       "    <tr>\n",
       "      <th>0</th>\n",
       "      <td>3</td>\n",
       "      <td>2013-01-01</td>\n",
       "      <td>1</td>\n",
       "      <td>0.0</td>\n",
       "      <td>3</td>\n",
       "      <td>DB001</td>\n",
       "      <td>Beverage</td>\n",
       "      <td>Drink</td>\n",
       "      <td>2</td>\n",
       "      <td>8</td>\n",
       "    </tr>\n",
       "    <tr>\n",
       "      <th>1</th>\n",
       "      <td>36</td>\n",
       "      <td>2013-01-01</td>\n",
       "      <td>10</td>\n",
       "      <td>0.0</td>\n",
       "      <td>3</td>\n",
       "      <td>DB001</td>\n",
       "      <td>Beverage</td>\n",
       "      <td>Drink</td>\n",
       "      <td>2</td>\n",
       "      <td>8</td>\n",
       "    </tr>\n",
       "    <tr>\n",
       "      <th>2</th>\n",
       "      <td>69</td>\n",
       "      <td>2013-01-01</td>\n",
       "      <td>11</td>\n",
       "      <td>0.0</td>\n",
       "      <td>3</td>\n",
       "      <td>DB001</td>\n",
       "      <td>Beverage</td>\n",
       "      <td>Drink</td>\n",
       "      <td>2</td>\n",
       "      <td>8</td>\n",
       "    </tr>\n",
       "    <tr>\n",
       "      <th>3</th>\n",
       "      <td>102</td>\n",
       "      <td>2013-01-01</td>\n",
       "      <td>12</td>\n",
       "      <td>0.0</td>\n",
       "      <td>3</td>\n",
       "      <td>DB001</td>\n",
       "      <td>Beverage</td>\n",
       "      <td>Drink</td>\n",
       "      <td>2</td>\n",
       "      <td>8</td>\n",
       "    </tr>\n",
       "    <tr>\n",
       "      <th>4</th>\n",
       "      <td>135</td>\n",
       "      <td>2013-01-01</td>\n",
       "      <td>13</td>\n",
       "      <td>0.0</td>\n",
       "      <td>3</td>\n",
       "      <td>DB001</td>\n",
       "      <td>Beverage</td>\n",
       "      <td>Drink</td>\n",
       "      <td>2</td>\n",
       "      <td>8</td>\n",
       "    </tr>\n",
       "  </tbody>\n",
       "</table>\n",
       "</div>"
      ],
      "text/plain": [
       "   Order_ID        Date  Store_ID  Qty  Product_ID Product_Code SubCategory  \\\n",
       "0         3  2013-01-01         1  0.0           3        DB001    Beverage   \n",
       "1        36  2013-01-01        10  0.0           3        DB001    Beverage   \n",
       "2        69  2013-01-01        11  0.0           3        DB001    Beverage   \n",
       "3       102  2013-01-01        12  0.0           3        DB001    Beverage   \n",
       "4       135  2013-01-01        13  0.0           3        DB001    Beverage   \n",
       "\n",
       "  Category  LeadTime  Price  \n",
       "0    Drink         2      8  \n",
       "1    Drink         2      8  \n",
       "2    Drink         2      8  \n",
       "3    Drink         2      8  \n",
       "4    Drink         2      8  "
      ]
     },
     "execution_count": 62,
     "metadata": {},
     "output_type": "execute_result"
    }
   ],
   "source": [
    "sales2 = pd.merge( sales, products, how = 'inner' , on = 'Product_ID' )\n",
    "sales2.head()\n",
    "\n",
    "# sales2 = pd.merge( sales, products, how = 'inner' , on = 'Product_ID' ) \n",
    "# sales2.head()"
   ]
  },
  {
   "cell_type": "code",
   "execution_count": 63,
   "metadata": {},
   "outputs": [
    {
     "data": {
      "text/html": [
       "<div>\n",
       "<style scoped>\n",
       "    .dataframe tbody tr th:only-of-type {\n",
       "        vertical-align: middle;\n",
       "    }\n",
       "\n",
       "    .dataframe tbody tr th {\n",
       "        vertical-align: top;\n",
       "    }\n",
       "\n",
       "    .dataframe thead th {\n",
       "        text-align: right;\n",
       "    }\n",
       "</style>\n",
       "<table border=\"1\" class=\"dataframe\">\n",
       "  <thead>\n",
       "    <tr style=\"text-align: right;\">\n",
       "      <th></th>\n",
       "      <th>Order_ID</th>\n",
       "      <th>Date</th>\n",
       "      <th>Store_ID</th>\n",
       "      <th>Qty</th>\n",
       "      <th>Product_ID</th>\n",
       "      <th>Product_Code</th>\n",
       "      <th>SubCategory</th>\n",
       "      <th>Category</th>\n",
       "      <th>LeadTime</th>\n",
       "      <th>Price</th>\n",
       "      <th>Amt</th>\n",
       "    </tr>\n",
       "  </thead>\n",
       "  <tbody>\n",
       "    <tr>\n",
       "      <th>0</th>\n",
       "      <td>3</td>\n",
       "      <td>2013-01-01</td>\n",
       "      <td>1</td>\n",
       "      <td>0.0</td>\n",
       "      <td>3</td>\n",
       "      <td>DB001</td>\n",
       "      <td>Beverage</td>\n",
       "      <td>Drink</td>\n",
       "      <td>2</td>\n",
       "      <td>8</td>\n",
       "      <td>0.0</td>\n",
       "    </tr>\n",
       "    <tr>\n",
       "      <th>1</th>\n",
       "      <td>36</td>\n",
       "      <td>2013-01-01</td>\n",
       "      <td>10</td>\n",
       "      <td>0.0</td>\n",
       "      <td>3</td>\n",
       "      <td>DB001</td>\n",
       "      <td>Beverage</td>\n",
       "      <td>Drink</td>\n",
       "      <td>2</td>\n",
       "      <td>8</td>\n",
       "      <td>0.0</td>\n",
       "    </tr>\n",
       "    <tr>\n",
       "      <th>2</th>\n",
       "      <td>69</td>\n",
       "      <td>2013-01-01</td>\n",
       "      <td>11</td>\n",
       "      <td>0.0</td>\n",
       "      <td>3</td>\n",
       "      <td>DB001</td>\n",
       "      <td>Beverage</td>\n",
       "      <td>Drink</td>\n",
       "      <td>2</td>\n",
       "      <td>8</td>\n",
       "      <td>0.0</td>\n",
       "    </tr>\n",
       "    <tr>\n",
       "      <th>3</th>\n",
       "      <td>102</td>\n",
       "      <td>2013-01-01</td>\n",
       "      <td>12</td>\n",
       "      <td>0.0</td>\n",
       "      <td>3</td>\n",
       "      <td>DB001</td>\n",
       "      <td>Beverage</td>\n",
       "      <td>Drink</td>\n",
       "      <td>2</td>\n",
       "      <td>8</td>\n",
       "      <td>0.0</td>\n",
       "    </tr>\n",
       "    <tr>\n",
       "      <th>4</th>\n",
       "      <td>135</td>\n",
       "      <td>2013-01-01</td>\n",
       "      <td>13</td>\n",
       "      <td>0.0</td>\n",
       "      <td>3</td>\n",
       "      <td>DB001</td>\n",
       "      <td>Beverage</td>\n",
       "      <td>Drink</td>\n",
       "      <td>2</td>\n",
       "      <td>8</td>\n",
       "      <td>0.0</td>\n",
       "    </tr>\n",
       "  </tbody>\n",
       "</table>\n",
       "</div>"
      ],
      "text/plain": [
       "   Order_ID        Date  Store_ID  Qty  Product_ID Product_Code SubCategory  \\\n",
       "0         3  2013-01-01         1  0.0           3        DB001    Beverage   \n",
       "1        36  2013-01-01        10  0.0           3        DB001    Beverage   \n",
       "2        69  2013-01-01        11  0.0           3        DB001    Beverage   \n",
       "3       102  2013-01-01        12  0.0           3        DB001    Beverage   \n",
       "4       135  2013-01-01        13  0.0           3        DB001    Beverage   \n",
       "\n",
       "  Category  LeadTime  Price  Amt  \n",
       "0    Drink         2      8  0.0  \n",
       "1    Drink         2      8  0.0  \n",
       "2    Drink         2      8  0.0  \n",
       "3    Drink         2      8  0.0  \n",
       "4    Drink         2      8  0.0  "
      ]
     },
     "execution_count": 63,
     "metadata": {},
     "output_type": "execute_result"
    }
   ],
   "source": [
    "sales2['Amt'] = sales2['Qty'] *sales2['Price']\n",
    "sales2.head()\n",
    "\n",
    "# sales2['Amt'] = sales2['Qty'] * sales2['Price'] \n",
    "# sales2.head()"
   ]
  },
  {
   "cell_type": "markdown",
   "metadata": {
    "id": "D85EiMGyHO2-"
   },
   "source": [
    "2) 상품(Product_Code)별 매출액"
   ]
  },
  {
   "cell_type": "code",
   "execution_count": 64,
   "metadata": {
    "id": "Pz1rOT3wHO2_"
   },
   "outputs": [
    {
     "data": {
      "text/html": [
       "<div>\n",
       "<style scoped>\n",
       "    .dataframe tbody tr th:only-of-type {\n",
       "        vertical-align: middle;\n",
       "    }\n",
       "\n",
       "    .dataframe tbody tr th {\n",
       "        vertical-align: top;\n",
       "    }\n",
       "\n",
       "    .dataframe thead th {\n",
       "        text-align: right;\n",
       "    }\n",
       "</style>\n",
       "<table border=\"1\" class=\"dataframe\">\n",
       "  <thead>\n",
       "    <tr style=\"text-align: right;\">\n",
       "      <th></th>\n",
       "      <th>Product_Code</th>\n",
       "      <th>Amt</th>\n",
       "    </tr>\n",
       "  </thead>\n",
       "  <tbody>\n",
       "    <tr>\n",
       "      <th>0</th>\n",
       "      <td>DA001</td>\n",
       "      <td>1.062816e+06</td>\n",
       "    </tr>\n",
       "    <tr>\n",
       "      <th>1</th>\n",
       "      <td>DB001</td>\n",
       "      <td>1.336522e+07</td>\n",
       "    </tr>\n",
       "    <tr>\n",
       "      <th>2</th>\n",
       "      <td>FB001</td>\n",
       "      <td>3.298673e+06</td>\n",
       "    </tr>\n",
       "    <tr>\n",
       "      <th>3</th>\n",
       "      <td>FF001</td>\n",
       "      <td>3.423657e+06</td>\n",
       "    </tr>\n",
       "    <tr>\n",
       "      <th>4</th>\n",
       "      <td>FM001</td>\n",
       "      <td>2.094948e+06</td>\n",
       "    </tr>\n",
       "    <tr>\n",
       "      <th>5</th>\n",
       "      <td>FP001</td>\n",
       "      <td>2.456785e+06</td>\n",
       "    </tr>\n",
       "    <tr>\n",
       "      <th>6</th>\n",
       "      <td>GA001</td>\n",
       "      <td>2.419344e+07</td>\n",
       "    </tr>\n",
       "    <tr>\n",
       "      <th>7</th>\n",
       "      <td>GE001</td>\n",
       "      <td>1.017210e+06</td>\n",
       "    </tr>\n",
       "    <tr>\n",
       "      <th>8</th>\n",
       "      <td>GM001</td>\n",
       "      <td>9.063631e+06</td>\n",
       "    </tr>\n",
       "    <tr>\n",
       "      <th>9</th>\n",
       "      <td>GS001</td>\n",
       "      <td>1.188430e+06</td>\n",
       "    </tr>\n",
       "    <tr>\n",
       "      <th>10</th>\n",
       "      <td>HC001</td>\n",
       "      <td>2.173276e+07</td>\n",
       "    </tr>\n",
       "    <tr>\n",
       "      <th>11</th>\n",
       "      <td>HG001</td>\n",
       "      <td>1.904000e+05</td>\n",
       "    </tr>\n",
       "    <tr>\n",
       "      <th>12</th>\n",
       "      <td>HH001</td>\n",
       "      <td>0.000000e+00</td>\n",
       "    </tr>\n",
       "    <tr>\n",
       "      <th>13</th>\n",
       "      <td>HK001</td>\n",
       "      <td>0.000000e+00</td>\n",
       "    </tr>\n",
       "    <tr>\n",
       "      <th>14</th>\n",
       "      <td>HK002</td>\n",
       "      <td>0.000000e+00</td>\n",
       "    </tr>\n",
       "  </tbody>\n",
       "</table>\n",
       "</div>"
      ],
      "text/plain": [
       "   Product_Code           Amt\n",
       "0         DA001  1.062816e+06\n",
       "1         DB001  1.336522e+07\n",
       "2         FB001  3.298673e+06\n",
       "3         FF001  3.423657e+06\n",
       "4         FM001  2.094948e+06\n",
       "5         FP001  2.456785e+06\n",
       "6         GA001  2.419344e+07\n",
       "7         GE001  1.017210e+06\n",
       "8         GM001  9.063631e+06\n",
       "9         GS001  1.188430e+06\n",
       "10        HC001  2.173276e+07\n",
       "11        HG001  1.904000e+05\n",
       "12        HH001  0.000000e+00\n",
       "13        HK001  0.000000e+00\n",
       "14        HK002  0.000000e+00"
      ]
     },
     "execution_count": 64,
     "metadata": {},
     "output_type": "execute_result"
    }
   ],
   "source": [
    "sales2.groupby('Product_Code',as_index = False)['Amt'].sum()"
   ]
  },
  {
   "cell_type": "markdown",
   "metadata": {
    "id": "psu8ocFvLnRi"
   },
   "source": [
    "3) City별 카테고리리별 매출액"
   ]
  },
  {
   "cell_type": "code",
   "execution_count": 66,
   "metadata": {
    "id": "qM-bqN5TLnRi"
   },
   "outputs": [
    {
     "data": {
      "text/html": [
       "<div>\n",
       "<style scoped>\n",
       "    .dataframe tbody tr th:only-of-type {\n",
       "        vertical-align: middle;\n",
       "    }\n",
       "\n",
       "    .dataframe tbody tr th {\n",
       "        vertical-align: top;\n",
       "    }\n",
       "\n",
       "    .dataframe thead th {\n",
       "        text-align: right;\n",
       "    }\n",
       "</style>\n",
       "<table border=\"1\" class=\"dataframe\">\n",
       "  <thead>\n",
       "    <tr style=\"text-align: right;\">\n",
       "      <th></th>\n",
       "      <th>City</th>\n",
       "      <th>Category</th>\n",
       "      <th>Amt</th>\n",
       "    </tr>\n",
       "  </thead>\n",
       "  <tbody>\n",
       "    <tr>\n",
       "      <th>0</th>\n",
       "      <td>Albany</td>\n",
       "      <td>Drink</td>\n",
       "      <td>2.367080e+05</td>\n",
       "    </tr>\n",
       "    <tr>\n",
       "      <th>1</th>\n",
       "      <td>Albany</td>\n",
       "      <td>Food</td>\n",
       "      <td>6.998561e+04</td>\n",
       "    </tr>\n",
       "    <tr>\n",
       "      <th>2</th>\n",
       "      <td>Albany</td>\n",
       "      <td>Grocery</td>\n",
       "      <td>3.676481e+05</td>\n",
       "    </tr>\n",
       "    <tr>\n",
       "      <th>3</th>\n",
       "      <td>Albany</td>\n",
       "      <td>Household Goods</td>\n",
       "      <td>2.875500e+05</td>\n",
       "    </tr>\n",
       "    <tr>\n",
       "      <th>4</th>\n",
       "      <td>Annapolis</td>\n",
       "      <td>Drink</td>\n",
       "      <td>3.507200e+05</td>\n",
       "    </tr>\n",
       "    <tr>\n",
       "      <th>...</th>\n",
       "      <td>...</td>\n",
       "      <td>...</td>\n",
       "      <td>...</td>\n",
       "    </tr>\n",
       "    <tr>\n",
       "      <th>79</th>\n",
       "      <td>Saint Paul</td>\n",
       "      <td>Household Goods</td>\n",
       "      <td>1.081224e+07</td>\n",
       "    </tr>\n",
       "    <tr>\n",
       "      <th>80</th>\n",
       "      <td>Wilmington</td>\n",
       "      <td>Drink</td>\n",
       "      <td>0.000000e+00</td>\n",
       "    </tr>\n",
       "    <tr>\n",
       "      <th>81</th>\n",
       "      <td>Wilmington</td>\n",
       "      <td>Food</td>\n",
       "      <td>0.000000e+00</td>\n",
       "    </tr>\n",
       "    <tr>\n",
       "      <th>82</th>\n",
       "      <td>Wilmington</td>\n",
       "      <td>Grocery</td>\n",
       "      <td>0.000000e+00</td>\n",
       "    </tr>\n",
       "    <tr>\n",
       "      <th>83</th>\n",
       "      <td>Wilmington</td>\n",
       "      <td>Household Goods</td>\n",
       "      <td>0.000000e+00</td>\n",
       "    </tr>\n",
       "  </tbody>\n",
       "</table>\n",
       "<p>84 rows × 3 columns</p>\n",
       "</div>"
      ],
      "text/plain": [
       "          City         Category           Amt\n",
       "0       Albany            Drink  2.367080e+05\n",
       "1       Albany             Food  6.998561e+04\n",
       "2       Albany          Grocery  3.676481e+05\n",
       "3       Albany  Household Goods  2.875500e+05\n",
       "4    Annapolis            Drink  3.507200e+05\n",
       "..         ...              ...           ...\n",
       "79  Saint Paul  Household Goods  1.081224e+07\n",
       "80  Wilmington            Drink  0.000000e+00\n",
       "81  Wilmington             Food  0.000000e+00\n",
       "82  Wilmington          Grocery  0.000000e+00\n",
       "83  Wilmington  Household Goods  0.000000e+00\n",
       "\n",
       "[84 rows x 3 columns]"
      ]
     },
     "execution_count": 66,
     "metadata": {},
     "output_type": "execute_result"
    }
   ],
   "source": [
    "# column 이름이 같은걸 찾아야 한다.\n",
    "# 1. sales2 와  stores 를 merge (store_id)\n",
    "sales3 = pd.merge( sales2, stores, how = 'inner' , on = 'Store_ID' )\n",
    "sales3.head()\n",
    "# pd.merge( sales2, stores, how = 'inner' , on = 'Store_ID' )\n",
    "# 2. groupby (0206 복습하기)\n",
    "sales3.groupby(['City', 'Category'], as_index = False)['Amt'].sum()\n",
    "\n",
    "# 1. sales2와 stores 를 merge sales3 = pd.merge( sales2, stores , how = 'inner', on = 'Store_ID') sales3.head() # 2. groupby sales3.groupby( [ 'City', 'Category'], as_index = False )['Amt'].sum()"
   ]
  },
  {
   "cell_type": "markdown",
   "metadata": {},
   "source": [
    "지역별로 어떤 카테고리의 매출액이 높은지 비교하고 싶어요.\n",
    "\n",
    "df.groupby(['지역','카테고리'], as_index = False)['금액'].sum()"
   ]
  },
  {
   "cell_type": "markdown",
   "metadata": {
    "id": "k32LGdqhMLiB"
   },
   "source": [
    "4) 매출액이 가장 높은 주(state) top 3\n",
    "* state별 매출액 합계\n",
    "* 매출액 기준 정렬(내림차순)\n",
    "* .head(3)"
   ]
  },
  {
   "cell_type": "code",
   "execution_count": 70,
   "metadata": {
    "id": "_3jTGMbsLdF6"
   },
   "outputs": [
    {
     "data": {
      "text/html": [
       "<div>\n",
       "<style scoped>\n",
       "    .dataframe tbody tr th:only-of-type {\n",
       "        vertical-align: middle;\n",
       "    }\n",
       "\n",
       "    .dataframe tbody tr th {\n",
       "        vertical-align: top;\n",
       "    }\n",
       "\n",
       "    .dataframe thead th {\n",
       "        text-align: right;\n",
       "    }\n",
       "</style>\n",
       "<table border=\"1\" class=\"dataframe\">\n",
       "  <thead>\n",
       "    <tr style=\"text-align: right;\">\n",
       "      <th></th>\n",
       "      <th>State</th>\n",
       "      <th>Amt</th>\n",
       "    </tr>\n",
       "  </thead>\n",
       "  <tbody>\n",
       "    <tr>\n",
       "      <th>6</th>\n",
       "      <td>Minnesota</td>\n",
       "      <td>4.733903e+07</td>\n",
       "    </tr>\n",
       "    <tr>\n",
       "      <th>8</th>\n",
       "      <td>North Carolina</td>\n",
       "      <td>1.133845e+07</td>\n",
       "    </tr>\n",
       "    <tr>\n",
       "      <th>0</th>\n",
       "      <td>Arizona</td>\n",
       "      <td>4.192750e+06</td>\n",
       "    </tr>\n",
       "  </tbody>\n",
       "</table>\n",
       "</div>"
      ],
      "text/plain": [
       "            State           Amt\n",
       "6       Minnesota  4.733903e+07\n",
       "8  North Carolina  1.133845e+07\n",
       "0         Arizona  4.192750e+06"
      ]
     },
     "execution_count": 70,
     "metadata": {},
     "output_type": "execute_result"
    }
   ],
   "source": [
    "temp = sales3.groupby('State', as_index = False)['Amt'].sum()\n",
    "temp.sort_values('Amt', ascending=False).head(3) # Amt 기준으로 정렬\n",
    "# e +07 = 10의 7승 \n",
    "# e -07 = 10의 -7승 "
   ]
  },
  {
   "cell_type": "markdown",
   "metadata": {},
   "source": [
    "# 무조건 풀어보고 이해해야하는 문제"
   ]
  },
  {
   "cell_type": "markdown",
   "metadata": {
    "id": "hcwnjnPFMcM-"
   },
   "source": [
    "### 문제) 2013년 1월 셋째주 각 도시별 상품(SubCategory)별 매출액 비교\n",
    "* 수도코드(의사코드) : 우리 말로 알고리즘을 순차적으로 정리해 놓은 것"
   ]
  },
  {
   "cell_type": "markdown",
   "metadata": {},
   "source": [
    "2013년 1월 셋째주 각 도시별 상품(SubCategory)별 매출액 비교\n",
    "\n",
    "1. 2013년 1월 셋째주\n",
    "    * sales['Date'] : pd.to_datetime() 으로 변환\n",
    "    * sales['Week'] 만들기 : .dt.weekofyear / .dt.week\n",
    "    * sales['Week'] == 3 인 것 가져와. sales.loc[ ]\n",
    "2. 각 도시별 상품(SubCategory) 별\n",
    "    * 1위 결과, stores 머지.(stores['City'])\n",
    "    * 위 결과, products 머지. ( products['Price'],products['SubCategory'])\n",
    "3. 각 도시별 상품(SubCategory)별 매출액 비교\n",
    "    * Amt 만들기 : Qty * Price \n",
    "    * groupby\n",
    "\n",
    "* 수도코드(의사코드) : 우리 말로 알고리즘을 순차적으로 정리해 놓은 것"
   ]
  },
  {
   "cell_type": "code",
   "execution_count": 5,
   "metadata": {},
   "outputs": [],
   "source": [
    "#1. \n",
    "\n",
    "sales['Date'] = pd.to_datetime(sales['Date']) \n",
    "sales['Week'] = sales['Date'].dt.isocalendar().week \n",
    "sales2 = sales.loc[ sales['Week'] == 3 ]"
   ]
  },
  {
   "cell_type": "code",
   "execution_count": 10,
   "metadata": {},
   "outputs": [
    {
     "data": {
      "text/html": [
       "<div>\n",
       "<style scoped>\n",
       "    .dataframe tbody tr th:only-of-type {\n",
       "        vertical-align: middle;\n",
       "    }\n",
       "\n",
       "    .dataframe tbody tr th {\n",
       "        vertical-align: top;\n",
       "    }\n",
       "\n",
       "    .dataframe thead th {\n",
       "        text-align: right;\n",
       "    }\n",
       "</style>\n",
       "<table border=\"1\" class=\"dataframe\">\n",
       "  <thead>\n",
       "    <tr style=\"text-align: right;\">\n",
       "      <th></th>\n",
       "      <th>Order_ID</th>\n",
       "      <th>Date</th>\n",
       "      <th>Store_ID</th>\n",
       "      <th>Qty</th>\n",
       "      <th>Product_ID</th>\n",
       "      <th>Week</th>\n",
       "      <th>City</th>\n",
       "      <th>State</th>\n",
       "      <th>Store_Type</th>\n",
       "      <th>Product_Code</th>\n",
       "      <th>SubCategory</th>\n",
       "      <th>Category</th>\n",
       "      <th>LeadTime</th>\n",
       "      <th>Price</th>\n",
       "    </tr>\n",
       "  </thead>\n",
       "  <tbody>\n",
       "    <tr>\n",
       "      <th>0</th>\n",
       "      <td>23169</td>\n",
       "      <td>2013-01-14</td>\n",
       "      <td>1</td>\n",
       "      <td>1178.0</td>\n",
       "      <td>3</td>\n",
       "      <td>3</td>\n",
       "      <td>Saint Paul</td>\n",
       "      <td>Minnesota</td>\n",
       "      <td>4</td>\n",
       "      <td>DB001</td>\n",
       "      <td>Beverage</td>\n",
       "      <td>Drink</td>\n",
       "      <td>2</td>\n",
       "      <td>8</td>\n",
       "    </tr>\n",
       "    <tr>\n",
       "      <th>1</th>\n",
       "      <td>24951</td>\n",
       "      <td>2013-01-15</td>\n",
       "      <td>1</td>\n",
       "      <td>1149.0</td>\n",
       "      <td>3</td>\n",
       "      <td>3</td>\n",
       "      <td>Saint Paul</td>\n",
       "      <td>Minnesota</td>\n",
       "      <td>4</td>\n",
       "      <td>DB001</td>\n",
       "      <td>Beverage</td>\n",
       "      <td>Drink</td>\n",
       "      <td>2</td>\n",
       "      <td>8</td>\n",
       "    </tr>\n",
       "    <tr>\n",
       "      <th>2</th>\n",
       "      <td>26733</td>\n",
       "      <td>2013-01-16</td>\n",
       "      <td>1</td>\n",
       "      <td>1043.0</td>\n",
       "      <td>3</td>\n",
       "      <td>3</td>\n",
       "      <td>Saint Paul</td>\n",
       "      <td>Minnesota</td>\n",
       "      <td>4</td>\n",
       "      <td>DB001</td>\n",
       "      <td>Beverage</td>\n",
       "      <td>Drink</td>\n",
       "      <td>2</td>\n",
       "      <td>8</td>\n",
       "    </tr>\n",
       "    <tr>\n",
       "      <th>3</th>\n",
       "      <td>28515</td>\n",
       "      <td>2013-01-17</td>\n",
       "      <td>1</td>\n",
       "      <td>898.0</td>\n",
       "      <td>3</td>\n",
       "      <td>3</td>\n",
       "      <td>Saint Paul</td>\n",
       "      <td>Minnesota</td>\n",
       "      <td>4</td>\n",
       "      <td>DB001</td>\n",
       "      <td>Beverage</td>\n",
       "      <td>Drink</td>\n",
       "      <td>2</td>\n",
       "      <td>8</td>\n",
       "    </tr>\n",
       "    <tr>\n",
       "      <th>4</th>\n",
       "      <td>30297</td>\n",
       "      <td>2013-01-18</td>\n",
       "      <td>1</td>\n",
       "      <td>1130.0</td>\n",
       "      <td>3</td>\n",
       "      <td>3</td>\n",
       "      <td>Saint Paul</td>\n",
       "      <td>Minnesota</td>\n",
       "      <td>4</td>\n",
       "      <td>DB001</td>\n",
       "      <td>Beverage</td>\n",
       "      <td>Drink</td>\n",
       "      <td>2</td>\n",
       "      <td>8</td>\n",
       "    </tr>\n",
       "  </tbody>\n",
       "</table>\n",
       "</div>"
      ],
      "text/plain": [
       "   Order_ID       Date  Store_ID     Qty  Product_ID  Week        City  \\\n",
       "0     23169 2013-01-14         1  1178.0           3     3  Saint Paul   \n",
       "1     24951 2013-01-15         1  1149.0           3     3  Saint Paul   \n",
       "2     26733 2013-01-16         1  1043.0           3     3  Saint Paul   \n",
       "3     28515 2013-01-17         1   898.0           3     3  Saint Paul   \n",
       "4     30297 2013-01-18         1  1130.0           3     3  Saint Paul   \n",
       "\n",
       "       State  Store_Type Product_Code SubCategory Category  LeadTime  Price  \n",
       "0  Minnesota           4        DB001    Beverage    Drink         2      8  \n",
       "1  Minnesota           4        DB001    Beverage    Drink         2      8  \n",
       "2  Minnesota           4        DB001    Beverage    Drink         2      8  \n",
       "3  Minnesota           4        DB001    Beverage    Drink         2      8  \n",
       "4  Minnesota           4        DB001    Beverage    Drink         2      8  "
      ]
     },
     "execution_count": 10,
     "metadata": {},
     "output_type": "execute_result"
    }
   ],
   "source": [
    "#2. \n",
    "\n",
    "temp1 = pd.merge(sales2, stores) \n",
    "temp2 = pd.merge(temp1, products)\n",
    "temp2.head()"
   ]
  },
  {
   "cell_type": "code",
   "execution_count": 11,
   "metadata": {},
   "outputs": [
    {
     "data": {
      "text/html": [
       "<div>\n",
       "<style scoped>\n",
       "    .dataframe tbody tr th:only-of-type {\n",
       "        vertical-align: middle;\n",
       "    }\n",
       "\n",
       "    .dataframe tbody tr th {\n",
       "        vertical-align: top;\n",
       "    }\n",
       "\n",
       "    .dataframe thead th {\n",
       "        text-align: right;\n",
       "    }\n",
       "</style>\n",
       "<table border=\"1\" class=\"dataframe\">\n",
       "  <thead>\n",
       "    <tr style=\"text-align: right;\">\n",
       "      <th></th>\n",
       "      <th>City</th>\n",
       "      <th>SubCategory</th>\n",
       "      <th>Amt</th>\n",
       "    </tr>\n",
       "  </thead>\n",
       "  <tbody>\n",
       "    <tr>\n",
       "      <th>0</th>\n",
       "      <td>Albany</td>\n",
       "      <td>Agricultural products</td>\n",
       "      <td>67224.0</td>\n",
       "    </tr>\n",
       "    <tr>\n",
       "      <th>1</th>\n",
       "      <td>Albany</td>\n",
       "      <td>Alcohol</td>\n",
       "      <td>6336.0</td>\n",
       "    </tr>\n",
       "    <tr>\n",
       "      <th>2</th>\n",
       "      <td>Albany</td>\n",
       "      <td>BAKERY</td>\n",
       "      <td>7530.0</td>\n",
       "    </tr>\n",
       "    <tr>\n",
       "      <th>3</th>\n",
       "      <td>Albany</td>\n",
       "      <td>Beverage</td>\n",
       "      <td>45360.0</td>\n",
       "    </tr>\n",
       "    <tr>\n",
       "      <th>4</th>\n",
       "      <td>Albany</td>\n",
       "      <td>Cleaning</td>\n",
       "      <td>61365.0</td>\n",
       "    </tr>\n",
       "    <tr>\n",
       "      <th>...</th>\n",
       "      <td>...</td>\n",
       "      <td>...</td>\n",
       "      <td>...</td>\n",
       "    </tr>\n",
       "    <tr>\n",
       "      <th>289</th>\n",
       "      <td>Wilmington</td>\n",
       "      <td>Kitchen</td>\n",
       "      <td>0.0</td>\n",
       "    </tr>\n",
       "    <tr>\n",
       "      <th>290</th>\n",
       "      <td>Wilmington</td>\n",
       "      <td>Meats</td>\n",
       "      <td>0.0</td>\n",
       "    </tr>\n",
       "    <tr>\n",
       "      <th>291</th>\n",
       "      <td>Wilmington</td>\n",
       "      <td>Milk</td>\n",
       "      <td>0.0</td>\n",
       "    </tr>\n",
       "    <tr>\n",
       "      <th>292</th>\n",
       "      <td>Wilmington</td>\n",
       "      <td>Prepared</td>\n",
       "      <td>0.0</td>\n",
       "    </tr>\n",
       "    <tr>\n",
       "      <th>293</th>\n",
       "      <td>Wilmington</td>\n",
       "      <td>Seafood</td>\n",
       "      <td>0.0</td>\n",
       "    </tr>\n",
       "  </tbody>\n",
       "</table>\n",
       "<p>294 rows × 3 columns</p>\n",
       "</div>"
      ],
      "text/plain": [
       "           City            SubCategory      Amt\n",
       "0        Albany  Agricultural products  67224.0\n",
       "1        Albany                Alcohol   6336.0\n",
       "2        Albany                 BAKERY   7530.0\n",
       "3        Albany               Beverage  45360.0\n",
       "4        Albany               Cleaning  61365.0\n",
       "..          ...                    ...      ...\n",
       "289  Wilmington                Kitchen      0.0\n",
       "290  Wilmington                  Meats      0.0\n",
       "291  Wilmington                   Milk      0.0\n",
       "292  Wilmington               Prepared      0.0\n",
       "293  Wilmington                Seafood      0.0\n",
       "\n",
       "[294 rows x 3 columns]"
      ]
     },
     "execution_count": 11,
     "metadata": {},
     "output_type": "execute_result"
    }
   ],
   "source": [
    "#3.  merge의 디폴트는 inner \n",
    "\n",
    "temp2['Amt'] = temp2['Qty'] * temp2['Price'] \n",
    "temp2.groupby( [ 'City', 'SubCategory'], as_index = False)['Amt'].sum()"
   ]
  },
  {
   "cell_type": "code",
   "execution_count": null,
   "metadata": {},
   "outputs": [],
   "source": []
  },
  {
   "cell_type": "code",
   "execution_count": null,
   "metadata": {},
   "outputs": [],
   "source": []
  }
 ],
 "metadata": {
  "colab": {
   "provenance": [],
   "toc_visible": true
  },
  "kernelspec": {
   "display_name": "Python 3 (ipykernel)",
   "language": "python",
   "name": "python3"
  },
  "language_info": {
   "codemirror_mode": {
    "name": "ipython",
    "version": 3
   },
   "file_extension": ".py",
   "mimetype": "text/x-python",
   "name": "python",
   "nbconvert_exporter": "python",
   "pygments_lexer": "ipython3",
   "version": "3.9.13"
  }
 },
 "nbformat": 4,
 "nbformat_minor": 4
}
